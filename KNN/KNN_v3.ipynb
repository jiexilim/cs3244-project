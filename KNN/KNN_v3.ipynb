{
 "cells": [
  {
   "cell_type": "code",
   "execution_count": 97,
   "id": "b6faacf4",
   "metadata": {},
   "outputs": [],
   "source": [
    "# data preprocess\n",
    "import pandas as pd\n",
    "import numpy as np\n",
    "from sklearn.model_selection import train_test_split\n",
    "from sklearn.preprocessing import StandardScaler\n",
    "from sklearn import neighbors\n",
    "from sklearn.metrics import mean_squared_error, mean_absolute_error\n",
    "from sklearn.metrics import accuracy_score, precision_score, recall_score, f1_score,roc_auc_score, roc_curve\n",
    "from sklearn.metrics import confusion_matrix, classification_report\n",
    "import matplotlib.pyplot as plt\n",
    "import seaborn as sns\n"
   ]
  },
  {
   "cell_type": "code",
   "execution_count": 59,
   "id": "6e221c6a",
   "metadata": {},
   "outputs": [],
   "source": [
    "train_appl = pd.read_csv('../data_preprocess_v3/train_apple.csv')\n",
    "train_ggl = pd.read_csv('../data_preprocess_v3/train_google.csv')\n",
    "train_msft = pd.read_csv('../data_preprocess_v3/train_microsoft.csv')\n",
    "test_appl = pd.read_csv('../data_preprocess_v3/test_apple.csv')\n",
    "test_ggl = pd.read_csv('../data_preprocess_v3/test_google.csv')\n",
    "test_msft = pd.read_csv('../data_preprocess_v3/test_microsoft.csv')"
   ]
  },
  {
   "cell_type": "code",
   "execution_count": 62,
   "id": "09ee48e0",
   "metadata": {},
   "outputs": [],
   "source": [
    "df_train = pd.concat([train_appl,train_ggl,train_msft])\n",
    "df_test = pd.concat([test_appl,test_ggl,test_msft])"
   ]
  },
  {
   "cell_type": "code",
   "execution_count": 63,
   "id": "5f75ba7b",
   "metadata": {},
   "outputs": [],
   "source": [
    "X_train = df_train[df_train.columns[0:10]]\n",
    "y_train = df_train['Close (t)']\n",
    "X_test = df_test[df_test.columns[0:10]]\n",
    "y_test = df_test['Close (t)']"
   ]
  },
  {
   "cell_type": "code",
   "execution_count": 70,
   "id": "730c6984",
   "metadata": {},
   "outputs": [],
   "source": [
    "#scaling\n",
    "scaler = StandardScaler()\n",
    "scaler.fit(X_train)\n",
    "X_train = scaler.transform(X_train)\n",
    "X_test = scaler.transform(X_test)"
   ]
  },
  {
   "cell_type": "code",
   "execution_count": 99,
   "id": "0b23c42b",
   "metadata": {},
   "outputs": [],
   "source": [
    "# Run KNN Regressor to predict CLose(t)\n",
    "knn = neighbors.KNeighborsRegressor(n_neighbors = 5, metric='euclidean')\n",
    "knn_model = knn.fit(X_train, y_train)"
   ]
  },
  {
   "cell_type": "code",
   "execution_count": 100,
   "id": "9aac143c",
   "metadata": {},
   "outputs": [
    {
     "name": "stdout",
     "output_type": "stream",
     "text": [
      "kNN R-squared for training set: 0.997336\n",
      "kNN R-squared for test set: 0.667144\n",
      "kNN MAE for test set: 131.762269\n",
      "kNN MSE for test set: 63244.765824\n",
      "kNN RMSE for test set: 251.485120\n"
     ]
    }
   ],
   "source": [
    "print('kNN R-squared for training set: %f' % knn_model.score(X_train, y_train))\n",
    "print('kNN R-squared for test set: %f' % knn_model.score(X_test, y_test))\n",
    "\n",
    "y_pred = knn_model.predict(X_test)\n",
    "print('kNN MAE for test set: %f' % mean_absolute_error(y_test, y_pred))\n",
    "print('kNN MSE for test set: %f' % mean_squared_error(y_test, y_pred, squared=True))\n",
    "print('kNN RMSE for test set: %f' % mean_squared_error(y_test, y_pred, squared=False))"
   ]
  },
  {
   "cell_type": "code",
   "execution_count": 101,
   "id": "d6b6cf4a",
   "metadata": {},
   "outputs": [],
   "source": [
    "mvt_pred = np.where(y_pred > df_test['Close (t-1)'], 1, 0)\n",
    "mvt_label = mvt_test = df_test['movement']"
   ]
  },
  {
   "cell_type": "code",
   "execution_count": 102,
   "id": "56a0ad36",
   "metadata": {},
   "outputs": [],
   "source": [
    "def evaluate_model(model, predicted, label_test):\n",
    "\n",
    "    print(\"accuracy:\", str(accuracy_score(label_test, predicted)))\n",
    "    \n",
    "    print(\"precision:\", str(precision_score(label_test, predicted, average='weighted')))\n",
    "\n",
    "    print(\"recall:\", str(recall_score(label_test, predicted, average='weighted')))\n",
    "   \n",
    "    print(\"f1\", str(f1_score(label_test, predicted, average='weighted')))\n",
    "    \n",
    "    print(\"metrics.roc_auc_score\", str(roc_auc_score(label_test, predicted, average='weighted')))\n",
    "\n",
    "    plot_confusion_matrix(model, predicted, label_test,\n",
    "                      display_labels=list(set(label_test)),\n",
    "                      cmap=plt.cm.Blues)\n",
    "    \n",
    "    classification = classification_report(label_test, predicted)\n",
    "    print(classification)"
   ]
  },
  {
   "cell_type": "code",
   "execution_count": 103,
   "id": "a958ccd0",
   "metadata": {
    "scrolled": false
   },
   "outputs": [
    {
     "name": "stdout",
     "output_type": "stream",
     "text": [
      "accuracy: 0.4338138925294889\n",
      "precision: 0.4954784280368635\n",
      "recall: 0.4338138925294889\n",
      "f1 0.41067758060544274\n",
      "metrics.roc_auc_score 0.4800606226027496\n",
      "              precision    recall  f1-score   support\n",
      "\n",
      "           0       0.38      0.70      0.50       302\n",
      "           1       0.57      0.26      0.36       461\n",
      "\n",
      "    accuracy                           0.43       763\n",
      "   macro avg       0.48      0.48      0.43       763\n",
      "weighted avg       0.50      0.43      0.41       763\n",
      "\n"
     ]
    },
    {
     "data": {
      "image/png": "[encoded data removed]",
      "text/plain": [
       "<Figure size 432x288 with 2 Axes>"
      ]
     },
     "metadata": {
      "needs_background": "light"
     },
     "output_type": "display_data"
    }
   ],
   "source": [
    "metric_test = evaluate(mvt_pred, mvt_label)"
   ]
  },
  {
   "cell_type": "code",
   "execution_count": null,
   "id": "78973761",
   "metadata": {},
   "outputs": [],
   "source": []
  }
 ],
 "metadata": {
  "kernelspec": {
   "display_name": "Python 3",
   "language": "python",
   "name": "python3"
  },
  "language_info": {
   "codemirror_mode": {
    "name": "ipython",
    "version": 3
   },
   "file_extension": ".py",
   "mimetype": "text/x-python",
   "name": "python",
   "nbconvert_exporter": "python",
   "pygments_lexer": "ipython3",
   "version": "3.8.8"
  }
 },
 "nbformat": 4,
 "nbformat_minor": 5
}
