{
 "cells": [
  {
   "cell_type": "code",
   "execution_count": 1,
   "id": "b6faacf4",
   "metadata": {},
   "outputs": [],
   "source": [
    "# data preprocess\n",
    "import pandas as pd\n",
    "import numpy as np\n",
    "from sklearn.model_selection import train_test_split\n",
    "from sklearn.preprocessing import StandardScaler\n",
    "from sklearn import neighbors\n",
    "from sklearn.metrics import mean_squared_error, mean_absolute_error\n",
    "from sklearn.metrics import accuracy_score, precision_score, recall_score, f1_score,roc_auc_score, roc_curve\n",
    "from sklearn.metrics import confusion_matrix, ConfusionMatrixDisplay, classification_report\n",
    "import matplotlib.pyplot as plt\n",
    "import seaborn as sns\n"
   ]
  },
  {
   "cell_type": "code",
   "execution_count": 2,
   "id": "09ee48e0",
   "metadata": {},
   "outputs": [],
   "source": [
    "df_train = pd.read_csv('../Shu Rui/train.csv')\n",
    "df_test = pd.read_csv('../Shu Rui/test.csv')"
   ]
  },
  {
   "cell_type": "code",
   "execution_count": 3,
   "id": "5f75ba7b",
   "metadata": {},
   "outputs": [],
   "source": [
    "X_train = df_train.drop([\"Close (t)\",\"movement\"],1)\n",
    "y_train = df_train['Close (t)']\n",
    "X_test = df_test.drop([\"Close (t)\",\"movement\"],1)\n",
    "y_test = df_test['Close (t)']"
   ]
  },
  {
   "cell_type": "code",
   "execution_count": 4,
   "id": "730c6984",
   "metadata": {},
   "outputs": [],
   "source": [
    "#scaling\n",
    "scaler = StandardScaler()\n",
    "scaler.fit(X_train)\n",
    "X_train = scaler.transform(X_train)\n",
    "X_test = scaler.transform(X_test)"
   ]
  },
  {
   "cell_type": "code",
   "execution_count": 5,
   "id": "0b23c42b",
   "metadata": {},
   "outputs": [],
   "source": [
    "# Run KNN Regressor to predict CLose(t)\n",
    "knn = neighbors.KNeighborsRegressor(n_neighbors = 9, metric='euclidean')\n",
    "knn_model = knn.fit(X_train, y_train)"
   ]
  },
  {
   "cell_type": "code",
   "execution_count": 6,
   "id": "9aac143c",
   "metadata": {},
   "outputs": [
    {
     "name": "stdout",
     "output_type": "stream",
     "text": [
      "kNN R-squared for training set: 0.996624\n",
      "kNN R-squared for test set: 0.655715\n",
      "kNN MAE for test set: 156.687014\n",
      "kNN MSE for test set: 65660.867449\n",
      "kNN RMSE for test set: 256.243766\n"
     ]
    }
   ],
   "source": [
    "print('kNN R-squared for training set: %f' % knn_model.score(X_train, y_train))\n",
    "print('kNN R-squared for test set: %f' % knn_model.score(X_test, y_test))\n",
    "\n",
    "y_pred = knn_model.predict(X_test)\n",
    "print('kNN MAE for test set: %f' % mean_absolute_error(y_test, y_pred))\n",
    "print('kNN MSE for test set: %f' % mean_squared_error(y_test, y_pred, squared=True))\n",
    "print('kNN RMSE for test set: %f' % mean_squared_error(y_test, y_pred, squared=False))"
   ]
  },
  {
   "cell_type": "code",
   "execution_count": 7,
   "id": "d6b6cf4a",
   "metadata": {},
   "outputs": [],
   "source": [
    "mvt_pred = np.where(y_pred > df_test['Close (t-1)'], 1, 0)\n",
    "mvt_label = pd.DataFrame(df_test['movement'])"
   ]
  },
  {
   "cell_type": "code",
   "execution_count": 8,
   "id": "56a0ad36",
   "metadata": {},
   "outputs": [],
   "source": [
    "def evaluate(predicted, label_test):\n",
    "    print(\"accuracy:\", str(accuracy_score(label_test, predicted)))\n",
    "    \n",
    "    print(\"precision:\", str(precision_score(label_test, predicted, average='weighted')))\n",
    "\n",
    "    print(\"recall:\", str(recall_score(label_test, predicted, average='weighted')))\n",
    "   \n",
    "    print(\"f1\", str(f1_score(label_test, predicted, average='weighted')))\n",
    "    \n",
    "    print(\"metrics.roc_auc_score\", str(roc_auc_score(label_test, predicted, average='weighted')))\n",
    "\n",
    "    cm = confusion_matrix(label_test, predicted)\n",
    "    f = sns.heatmap(cm, annot=True, fmt='d')\n",
    "    \n",
    "    classification = classification_report(label_test, predicted)\n",
    "    print(classification)"
   ]
  },
  {
   "cell_type": "code",
   "execution_count": 9,
   "id": "a958ccd0",
   "metadata": {
    "scrolled": false
   },
   "outputs": [
    {
     "name": "stdout",
     "output_type": "stream",
     "text": [
      "accuracy: 0.3236459709379128\n",
      "precision: 0.6875093937902341\n",
      "recall: 0.3236459709379128\n",
      "f1 0.21175541552827595\n",
      "metrics.roc_auc_score 0.5168507770080509\n",
      "              precision    recall  f1-score   support\n",
      "\n",
      "           0       0.30      0.97      0.45       218\n",
      "           1       0.85      0.06      0.11       539\n",
      "\n",
      "    accuracy                           0.32       757\n",
      "   macro avg       0.57      0.52      0.28       757\n",
      "weighted avg       0.69      0.32      0.21       757\n",
      "\n"
     ]
    },
    {
     "data": {
      "image/png": "[encoded data removed]",
      "text/plain": [
       "<Figure size 432x288 with 2 Axes>"
      ]
     },
     "metadata": {
      "needs_background": "light"
     },
     "output_type": "display_data"
    }
   ],
   "source": [
    "metric_test = evaluate(mvt_pred, mvt_label)"
   ]
  }
 ],
 "metadata": {
  "kernelspec": {
   "display_name": "Python 3",
   "language": "python",
   "name": "python3"
  },
  "language_info": {
   "codemirror_mode": {
    "name": "ipython",
    "version": 3
   },
   "file_extension": ".py",
   "mimetype": "text/x-python",
   "name": "python",
   "nbconvert_exporter": "python",
   "pygments_lexer": "ipython3",
   "version": "3.8.8"
  }
 },
 "nbformat": 4,
 "nbformat_minor": 5
}
