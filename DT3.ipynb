{
 "cells": [
  {
   "cell_type": "code",
   "execution_count": 40,
   "id": "3958567b-4a8d-4bb0-ad17-79d4818704c8",
   "metadata": {},
   "outputs": [],
   "source": [
    "import pandas as pd\n",
    "import numpy as np\n",
    "from sklearn.ensemble import RandomForestClassifier\n",
    "from sklearn.tree import DecisionTreeClassifier\n",
    "from sklearn.metrics import accuracy_score\n",
    "from sklearn.model_selection import cross_validate, train_test_split, GridSearchCV, RandomizedSearchCV\n",
    "from sklearn.pipeline import Pipeline\n",
    "from sklearn.preprocessing import normalize\n",
    "from sklearn.metrics import plot_confusion_matrix, classification_report\n",
    "import matplotlib.pyplot as plt\n",
    "from sklearn.feature_selection import RFE\n",
    "from sklearn.metrics import precision_score, recall_score, f1_score,roc_auc_score, roc_curve"
   ]
  },
  {
   "cell_type": "code",
   "execution_count": 41,
   "id": "06633b00-85e3-4754-9bc7-def2b2bed22f",
   "metadata": {},
   "outputs": [],
   "source": [
    "def xgboost(train, label_train, test, label_test, evaluate = 't', search = 'g'):\n",
    "    import xgboost as xgb\n",
    "    xgb_params = {'max_depth': [3,4], \n",
    "              'learning_rate': [x/10 for x in list(range(1,6))],\n",
    "              'n_estimators': [10, 12, 13, 14],\n",
    "              'objective': ['binary:logistic']}\n",
    "    xgb_model = xgb.XGBClassifier(gamma=1, random_state=42, reg_lambda=200, use_label_encoder=False, eval_metric = 'logloss')\n",
    "    if search == 'g':\n",
    "        xgb_model = GridSearchCV(xgb_model, xgb_params, scoring='roc_auc')\n",
    "        xgb_model.fit(train, label_train)\n",
    "        print(xgb_model.best_estimator_)\n",
    "    else:\n",
    "        xgb_model = RandomizedSearchCV(xgb_model, xgb_params)\n",
    "        xgb_model.fit(train, label_train)\n",
    "        print(xgb_model.best_params_)\n",
    "        print(xgb_model.best_score_)\n",
    "        \n",
    "    if evaluate == 't':\n",
    "        evaluate_model(xgb_model, train, label_train)\n",
    "    else:\n",
    "        evaluate_model(xgb_model, test, label_test)\n",
    "    "
   ]
  },
  {
   "cell_type": "code",
   "execution_count": 42,
   "id": "bbc0f526-c77c-422a-9303-2068a5852d3c",
   "metadata": {},
   "outputs": [],
   "source": [
    "def randomforest(train, label_train, test, label_test, evaluate = 't', search = 'g'):\n",
    "    rfc_params = {'n_estimators': [100, 150, 200],\n",
    "                'max_features': ['auto', 'sqrt', 'log2'],\n",
    "                'max_depth' : [5,6],\n",
    "                'criterion' :['gini', 'entropy'],\n",
    "                'random_state': [42]}\n",
    "\n",
    "    rfc_model = RandomForestClassifier()\n",
    "\n",
    "    if search == 'g':\n",
    "        rfc_model = GridSearchCV(rfc_model, rfc_params, scoring='roc_auc')\n",
    "        rfc_model = rfc_model.fit(train, label_train)\n",
    "        print(rfc_model.best_estimator_)\n",
    "    else:\n",
    "        rfc_model = RandomizedSearchCV(rfc_model, rfc_params)\n",
    "        rfc_model = rfc_model.fit(train, label_train)\n",
    "        print(rfc_model.best_params_)\n",
    "        print(rfc_model.best_score_)\n",
    "\n",
    "    if evaluate == 't':\n",
    "        evaluate_model(rfc_model, train, label_train)\n",
    "    else:\n",
    "        evaluate_model(rfc_model, test, label_test)"
   ]
  },
  {
   "cell_type": "code",
   "execution_count": 43,
   "id": "806c52c4-5432-4585-8f2c-6b0f7a63327c",
   "metadata": {},
   "outputs": [],
   "source": [
    "def decisiontree (train, label_train, test, label_test, evaluate = 't', search = 'g'):\n",
    "    dt_params = {\"criterion\":['gini','entropy'],\n",
    "                 'max_depth':[3,4,5,6,7,8],\n",
    "                 'random_state': [42]}\n",
    "\n",
    "    dt_model = DecisionTreeClassifier()\n",
    "    if search == 'g':\n",
    "        dt_model = GridSearchCV(dt_model, dt_params, scoring='roc_auc')\n",
    "        dt_model.fit(train, label_train)\n",
    "        print(dt_model.best_estimator_)\n",
    "    else:\n",
    "        dt_model = RandomizedSearchCV(dt_model, dt_params)\n",
    "        dt_model = dt_model.fit(train, label_train)\n",
    "        print(dt_model.best_params_)\n",
    "        print(dt_model.best_score_)\n",
    "    \n",
    "    if evaluate == 't':\n",
    "        evaluate_model(dt_model, train, label_train)\n",
    "    else:\n",
    "        evaluate_model(dt_model, test, label_test)"
   ]
  },
  {
   "cell_type": "code",
   "execution_count": 44,
   "id": "e9e198ed-13ce-4634-9246-87dde94c9b4b",
   "metadata": {},
   "outputs": [],
   "source": [
    "def evaluate_model(model, test, label_test):\n",
    "    predicted = model.predict(test)\n",
    "    print(\"accuracy:\", str(accuracy_score(label_test, predicted)))\n",
    "    \n",
    "    print(\"precision:\", str(precision_score(label_test, predicted, average='weighted')))\n",
    "\n",
    "    print(\"recall:\", str(recall_score(label_test, predicted, average='weighted')))\n",
    "   \n",
    "    print(\"f1\", str(f1_score(label_test, predicted, average='weighted')))\n",
    "    \n",
    "    print(\"metrics.roc_auc_score\", str(roc_auc_score(label_test, predicted, average='weighted')))\n",
    "\n",
    "    plot_confusion_matrix(model, test, label_test,\n",
    "                      display_labels=list(set(label_test)),\n",
    "                      cmap=plt.cm.Blues)\n",
    "    \n",
    "    classification = classification_report(label_test, predicted)\n",
    "    print(classification)"
   ]
  },
  {
   "cell_type": "code",
   "execution_count": 45,
   "id": "59caf435-a191-428d-829a-deddaa8e8025",
   "metadata": {},
   "outputs": [
    {
     "ename": "FileNotFoundError",
     "evalue": "[Errno 2] No such file or directory: 'train.csv'",
     "output_type": "error",
     "traceback": [
      "\u001b[1;31m---------------------------------------------------------------------------\u001b[0m",
      "\u001b[1;31mFileNotFoundError\u001b[0m                         Traceback (most recent call last)",
      "\u001b[1;32m<ipython-input-45-525dda771c74>\u001b[0m in \u001b[0;36m<module>\u001b[1;34m\u001b[0m\n\u001b[1;32m----> 1\u001b[1;33m \u001b[0mtrain_data\u001b[0m \u001b[1;33m=\u001b[0m \u001b[0mpd\u001b[0m\u001b[1;33m.\u001b[0m\u001b[0mread_csv\u001b[0m\u001b[1;33m(\u001b[0m\u001b[1;34m'train.csv'\u001b[0m\u001b[1;33m)\u001b[0m\u001b[1;33m\u001b[0m\u001b[1;33m\u001b[0m\u001b[0m\n\u001b[0m\u001b[0;32m      2\u001b[0m \u001b[0mtest_data\u001b[0m \u001b[1;33m=\u001b[0m \u001b[0mpd\u001b[0m\u001b[1;33m.\u001b[0m\u001b[0mread_csv\u001b[0m\u001b[1;33m(\u001b[0m\u001b[1;34m'test.csv'\u001b[0m\u001b[1;33m)\u001b[0m\u001b[1;33m\u001b[0m\u001b[1;33m\u001b[0m\u001b[0m\n",
      "\u001b[1;32m~\\anaconda3\\lib\\site-packages\\pandas\\io\\parsers.py\u001b[0m in \u001b[0;36mread_csv\u001b[1;34m(filepath_or_buffer, sep, delimiter, header, names, index_col, usecols, squeeze, prefix, mangle_dupe_cols, dtype, engine, converters, true_values, false_values, skipinitialspace, skiprows, skipfooter, nrows, na_values, keep_default_na, na_filter, verbose, skip_blank_lines, parse_dates, infer_datetime_format, keep_date_col, date_parser, dayfirst, cache_dates, iterator, chunksize, compression, thousands, decimal, lineterminator, quotechar, quoting, doublequote, escapechar, comment, encoding, dialect, error_bad_lines, warn_bad_lines, delim_whitespace, low_memory, memory_map, float_precision, storage_options)\u001b[0m\n\u001b[0;32m    608\u001b[0m     \u001b[0mkwds\u001b[0m\u001b[1;33m.\u001b[0m\u001b[0mupdate\u001b[0m\u001b[1;33m(\u001b[0m\u001b[0mkwds_defaults\u001b[0m\u001b[1;33m)\u001b[0m\u001b[1;33m\u001b[0m\u001b[1;33m\u001b[0m\u001b[0m\n\u001b[0;32m    609\u001b[0m \u001b[1;33m\u001b[0m\u001b[0m\n\u001b[1;32m--> 610\u001b[1;33m     \u001b[1;32mreturn\u001b[0m \u001b[0m_read\u001b[0m\u001b[1;33m(\u001b[0m\u001b[0mfilepath_or_buffer\u001b[0m\u001b[1;33m,\u001b[0m \u001b[0mkwds\u001b[0m\u001b[1;33m)\u001b[0m\u001b[1;33m\u001b[0m\u001b[1;33m\u001b[0m\u001b[0m\n\u001b[0m\u001b[0;32m    611\u001b[0m \u001b[1;33m\u001b[0m\u001b[0m\n\u001b[0;32m    612\u001b[0m \u001b[1;33m\u001b[0m\u001b[0m\n",
      "\u001b[1;32m~\\anaconda3\\lib\\site-packages\\pandas\\io\\parsers.py\u001b[0m in \u001b[0;36m_read\u001b[1;34m(filepath_or_buffer, kwds)\u001b[0m\n\u001b[0;32m    460\u001b[0m \u001b[1;33m\u001b[0m\u001b[0m\n\u001b[0;32m    461\u001b[0m     \u001b[1;31m# Create the parser.\u001b[0m\u001b[1;33m\u001b[0m\u001b[1;33m\u001b[0m\u001b[1;33m\u001b[0m\u001b[0m\n\u001b[1;32m--> 462\u001b[1;33m     \u001b[0mparser\u001b[0m \u001b[1;33m=\u001b[0m \u001b[0mTextFileReader\u001b[0m\u001b[1;33m(\u001b[0m\u001b[0mfilepath_or_buffer\u001b[0m\u001b[1;33m,\u001b[0m \u001b[1;33m**\u001b[0m\u001b[0mkwds\u001b[0m\u001b[1;33m)\u001b[0m\u001b[1;33m\u001b[0m\u001b[1;33m\u001b[0m\u001b[0m\n\u001b[0m\u001b[0;32m    463\u001b[0m \u001b[1;33m\u001b[0m\u001b[0m\n\u001b[0;32m    464\u001b[0m     \u001b[1;32mif\u001b[0m \u001b[0mchunksize\u001b[0m \u001b[1;32mor\u001b[0m \u001b[0miterator\u001b[0m\u001b[1;33m:\u001b[0m\u001b[1;33m\u001b[0m\u001b[1;33m\u001b[0m\u001b[0m\n",
      "\u001b[1;32m~\\anaconda3\\lib\\site-packages\\pandas\\io\\parsers.py\u001b[0m in \u001b[0;36m__init__\u001b[1;34m(self, f, engine, **kwds)\u001b[0m\n\u001b[0;32m    817\u001b[0m             \u001b[0mself\u001b[0m\u001b[1;33m.\u001b[0m\u001b[0moptions\u001b[0m\u001b[1;33m[\u001b[0m\u001b[1;34m\"has_index_names\"\u001b[0m\u001b[1;33m]\u001b[0m \u001b[1;33m=\u001b[0m \u001b[0mkwds\u001b[0m\u001b[1;33m[\u001b[0m\u001b[1;34m\"has_index_names\"\u001b[0m\u001b[1;33m]\u001b[0m\u001b[1;33m\u001b[0m\u001b[1;33m\u001b[0m\u001b[0m\n\u001b[0;32m    818\u001b[0m \u001b[1;33m\u001b[0m\u001b[0m\n\u001b[1;32m--> 819\u001b[1;33m         \u001b[0mself\u001b[0m\u001b[1;33m.\u001b[0m\u001b[0m_engine\u001b[0m \u001b[1;33m=\u001b[0m \u001b[0mself\u001b[0m\u001b[1;33m.\u001b[0m\u001b[0m_make_engine\u001b[0m\u001b[1;33m(\u001b[0m\u001b[0mself\u001b[0m\u001b[1;33m.\u001b[0m\u001b[0mengine\u001b[0m\u001b[1;33m)\u001b[0m\u001b[1;33m\u001b[0m\u001b[1;33m\u001b[0m\u001b[0m\n\u001b[0m\u001b[0;32m    820\u001b[0m \u001b[1;33m\u001b[0m\u001b[0m\n\u001b[0;32m    821\u001b[0m     \u001b[1;32mdef\u001b[0m \u001b[0mclose\u001b[0m\u001b[1;33m(\u001b[0m\u001b[0mself\u001b[0m\u001b[1;33m)\u001b[0m\u001b[1;33m:\u001b[0m\u001b[1;33m\u001b[0m\u001b[1;33m\u001b[0m\u001b[0m\n",
      "\u001b[1;32m~\\anaconda3\\lib\\site-packages\\pandas\\io\\parsers.py\u001b[0m in \u001b[0;36m_make_engine\u001b[1;34m(self, engine)\u001b[0m\n\u001b[0;32m   1048\u001b[0m             )\n\u001b[0;32m   1049\u001b[0m         \u001b[1;31m# error: Too many arguments for \"ParserBase\"\u001b[0m\u001b[1;33m\u001b[0m\u001b[1;33m\u001b[0m\u001b[1;33m\u001b[0m\u001b[0m\n\u001b[1;32m-> 1050\u001b[1;33m         \u001b[1;32mreturn\u001b[0m \u001b[0mmapping\u001b[0m\u001b[1;33m[\u001b[0m\u001b[0mengine\u001b[0m\u001b[1;33m]\u001b[0m\u001b[1;33m(\u001b[0m\u001b[0mself\u001b[0m\u001b[1;33m.\u001b[0m\u001b[0mf\u001b[0m\u001b[1;33m,\u001b[0m \u001b[1;33m**\u001b[0m\u001b[0mself\u001b[0m\u001b[1;33m.\u001b[0m\u001b[0moptions\u001b[0m\u001b[1;33m)\u001b[0m  \u001b[1;31m# type: ignore[call-arg]\u001b[0m\u001b[1;33m\u001b[0m\u001b[1;33m\u001b[0m\u001b[0m\n\u001b[0m\u001b[0;32m   1051\u001b[0m \u001b[1;33m\u001b[0m\u001b[0m\n\u001b[0;32m   1052\u001b[0m     \u001b[1;32mdef\u001b[0m \u001b[0m_failover_to_python\u001b[0m\u001b[1;33m(\u001b[0m\u001b[0mself\u001b[0m\u001b[1;33m)\u001b[0m\u001b[1;33m:\u001b[0m\u001b[1;33m\u001b[0m\u001b[1;33m\u001b[0m\u001b[0m\n",
      "\u001b[1;32m~\\anaconda3\\lib\\site-packages\\pandas\\io\\parsers.py\u001b[0m in \u001b[0;36m__init__\u001b[1;34m(self, src, **kwds)\u001b[0m\n\u001b[0;32m   1865\u001b[0m \u001b[1;33m\u001b[0m\u001b[0m\n\u001b[0;32m   1866\u001b[0m         \u001b[1;31m# open handles\u001b[0m\u001b[1;33m\u001b[0m\u001b[1;33m\u001b[0m\u001b[1;33m\u001b[0m\u001b[0m\n\u001b[1;32m-> 1867\u001b[1;33m         \u001b[0mself\u001b[0m\u001b[1;33m.\u001b[0m\u001b[0m_open_handles\u001b[0m\u001b[1;33m(\u001b[0m\u001b[0msrc\u001b[0m\u001b[1;33m,\u001b[0m \u001b[0mkwds\u001b[0m\u001b[1;33m)\u001b[0m\u001b[1;33m\u001b[0m\u001b[1;33m\u001b[0m\u001b[0m\n\u001b[0m\u001b[0;32m   1868\u001b[0m         \u001b[1;32massert\u001b[0m \u001b[0mself\u001b[0m\u001b[1;33m.\u001b[0m\u001b[0mhandles\u001b[0m \u001b[1;32mis\u001b[0m \u001b[1;32mnot\u001b[0m \u001b[1;32mNone\u001b[0m\u001b[1;33m\u001b[0m\u001b[1;33m\u001b[0m\u001b[0m\n\u001b[0;32m   1869\u001b[0m         \u001b[1;32mfor\u001b[0m \u001b[0mkey\u001b[0m \u001b[1;32min\u001b[0m \u001b[1;33m(\u001b[0m\u001b[1;34m\"storage_options\"\u001b[0m\u001b[1;33m,\u001b[0m \u001b[1;34m\"encoding\"\u001b[0m\u001b[1;33m,\u001b[0m \u001b[1;34m\"memory_map\"\u001b[0m\u001b[1;33m,\u001b[0m \u001b[1;34m\"compression\"\u001b[0m\u001b[1;33m)\u001b[0m\u001b[1;33m:\u001b[0m\u001b[1;33m\u001b[0m\u001b[1;33m\u001b[0m\u001b[0m\n",
      "\u001b[1;32m~\\anaconda3\\lib\\site-packages\\pandas\\io\\parsers.py\u001b[0m in \u001b[0;36m_open_handles\u001b[1;34m(self, src, kwds)\u001b[0m\n\u001b[0;32m   1360\u001b[0m         \u001b[0mLet\u001b[0m \u001b[0mthe\u001b[0m \u001b[0mreaders\u001b[0m \u001b[0mopen\u001b[0m \u001b[0mIOHanldes\u001b[0m \u001b[0mafter\u001b[0m \u001b[0mthey\u001b[0m \u001b[0mare\u001b[0m \u001b[0mdone\u001b[0m \u001b[1;32mwith\u001b[0m \u001b[0mtheir\u001b[0m \u001b[0mpotential\u001b[0m \u001b[0mraises\u001b[0m\u001b[1;33m.\u001b[0m\u001b[1;33m\u001b[0m\u001b[1;33m\u001b[0m\u001b[0m\n\u001b[0;32m   1361\u001b[0m         \"\"\"\n\u001b[1;32m-> 1362\u001b[1;33m         self.handles = get_handle(\n\u001b[0m\u001b[0;32m   1363\u001b[0m             \u001b[0msrc\u001b[0m\u001b[1;33m,\u001b[0m\u001b[1;33m\u001b[0m\u001b[1;33m\u001b[0m\u001b[0m\n\u001b[0;32m   1364\u001b[0m             \u001b[1;34m\"r\"\u001b[0m\u001b[1;33m,\u001b[0m\u001b[1;33m\u001b[0m\u001b[1;33m\u001b[0m\u001b[0m\n",
      "\u001b[1;32m~\\anaconda3\\lib\\site-packages\\pandas\\io\\common.py\u001b[0m in \u001b[0;36mget_handle\u001b[1;34m(path_or_buf, mode, encoding, compression, memory_map, is_text, errors, storage_options)\u001b[0m\n\u001b[0;32m    640\u001b[0m                 \u001b[0merrors\u001b[0m \u001b[1;33m=\u001b[0m \u001b[1;34m\"replace\"\u001b[0m\u001b[1;33m\u001b[0m\u001b[1;33m\u001b[0m\u001b[0m\n\u001b[0;32m    641\u001b[0m             \u001b[1;31m# Encoding\u001b[0m\u001b[1;33m\u001b[0m\u001b[1;33m\u001b[0m\u001b[1;33m\u001b[0m\u001b[0m\n\u001b[1;32m--> 642\u001b[1;33m             handle = open(\n\u001b[0m\u001b[0;32m    643\u001b[0m                 \u001b[0mhandle\u001b[0m\u001b[1;33m,\u001b[0m\u001b[1;33m\u001b[0m\u001b[1;33m\u001b[0m\u001b[0m\n\u001b[0;32m    644\u001b[0m                 \u001b[0mioargs\u001b[0m\u001b[1;33m.\u001b[0m\u001b[0mmode\u001b[0m\u001b[1;33m,\u001b[0m\u001b[1;33m\u001b[0m\u001b[1;33m\u001b[0m\u001b[0m\n",
      "\u001b[1;31mFileNotFoundError\u001b[0m: [Errno 2] No such file or directory: 'train.csv'"
     ]
    }
   ],
   "source": [
    "google_train = pd.read_csv('./data_preprocess_v3/train_google.csv')\n",
    "google_test = pd.read_csv('./data_preprocess_v3/test_google.csv')\n",
    "mic_train = pd.read_csv('./data_preprocess_v3/train_microsoft.csv')\n",
    "mic_test = pd.read_csv('./data_preprocess_v3/test_microsoft.csv')\n",
    "apple_train = pd.read_csv('./data_preprocess_v3/train_apple.csv')\n",
    "apple_test = pd.read_csv('./data_preprocess_v3/test_apple.csv')\n",
    "\n",
    "train_data = pd.concat([google_train,mic_train,apple_train], ignore_index=True)\n",
    "test_data = pd.concat([google_test,mic_test,apple_test], ignore_index=True)"
   ]
  },
  {
   "cell_type": "code",
   "execution_count": null,
   "id": "53fbc42b-0f82-4eda-b348-a0c233d2037b",
   "metadata": {},
   "outputs": [],
   "source": [
    "train_mov = train_data[\"movement\"]\n",
    "test_mov = test_data[\"movement\"]\n",
    "col_name = train_data.drop([\"movement\"],1).columns\n",
    "train_data = pd.DataFrame(normalize(train_data.drop([\"movement\"],1)))\n",
    "test_data = pd.DataFrame(normalize(test_data.drop([\"movement\"],1)))\n",
    "train_data.columns = col_name\n",
    "test_data.columns = col_name\n",
    "train_data[\"movement\"] = train_mov\n",
    "test_data[\"movement\"] = test_mov"
   ]
  },
  {
   "cell_type": "code",
   "execution_count": null,
   "id": "3d32ae7f-08e2-48b2-8e0c-0320b5c33422",
   "metadata": {},
   "outputs": [],
   "source": [
    "label_train = train_data[\"movement\"].astype(int)\n",
    "train = train_data.drop([\"Close (t)\",\"movement\"],1)\n",
    "label_test = test_data[\"movement\"].astype(int)\n",
    "test = test_data.drop([\"Close (t)\",\"movement\"],1)"
   ]
  },
  {
   "cell_type": "code",
   "execution_count": null,
   "id": "2e7cc9fc-62d3-4809-8898-1e4942c81a3c",
   "metadata": {},
   "outputs": [],
   "source": [
    "#xgb_g_train = xgboost(train, label_train, test, label_test)\n",
    "#xgb_g_test = xgboost(train, label_train, test, label_test,  evaluate = 's')\n",
    "#xgb_r_train = xgboost(train, label_train, test, label_test, search = 'r')\n",
    "xgb_r_test = xgboost(train, label_train, test, label_test, evaluate = 's', search = 'r')"
   ]
  },
  {
   "cell_type": "code",
   "execution_count": null,
   "id": "bc144131-a2e0-4ff2-b8b0-8a2bcaab4386",
   "metadata": {},
   "outputs": [],
   "source": [
    "#rfc_g_train = randomforest(train, label_train, test, label_test, )\n",
    "#rfc_g_test = randomforest(train, label_train, test, label_test,  evaluate = 's')\n",
    "#rfc_r_train = randomforest(train, label_train, test, label_test,  search = 'r')\n",
    "#rfc_r_test = randomforest(train, label_train, test, label_test,  evaluate = 's', search = 'r')"
   ]
  },
  {
   "cell_type": "code",
   "execution_count": null,
   "id": "69c963ee-010d-47d9-9bfb-219567e6dad8",
   "metadata": {},
   "outputs": [],
   "source": [
    "#dt_g_train = decisiontree(train, label_train, test, label_test)\n",
    "#dt_g_test = decisiontree(train, label_train, test, label_test, evaluate = 's')\n",
    "#dt_r_train = decisiontree(train, label_train, test, label_test, search = 'r')\n",
    "dt_r_test = decisiontree(train, label_train, test, label_test, evaluate = 's', search = 'r')"
   ]
  }
 ],
 "metadata": {
  "kernelspec": {
   "display_name": "Python 3",
   "language": "python",
   "name": "python3"
  },
  "language_info": {
   "codemirror_mode": {
    "name": "ipython",
    "version": 3
   },
   "file_extension": ".py",
   "mimetype": "text/x-python",
   "name": "python",
   "nbconvert_exporter": "python",
   "pygments_lexer": "ipython3",
   "version": "3.8.8"
  }
 },
 "nbformat": 4,
 "nbformat_minor": 5
}
