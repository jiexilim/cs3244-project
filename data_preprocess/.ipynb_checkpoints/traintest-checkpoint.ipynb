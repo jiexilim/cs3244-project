{
 "cells": [
  {
   "cell_type": "code",
   "execution_count": 29,
   "id": "a9cb12d0-f4f9-422a-92dd-0fe31265c4bf",
   "metadata": {},
   "outputs": [],
   "source": [
    "import pandas as pd\n",
    "import numpy as np\n",
    "from sklearn.model_selection import train_test_split"
   ]
  },
  {
   "cell_type": "code",
   "execution_count": 30,
   "id": "61bf7407-f8f7-41ab-b57b-1c5dabb0e21d",
   "metadata": {},
   "outputs": [],
   "source": [
    "df = pd.read_csv('df_day_1_1.csv')\n",
    "\n",
    "y_movement = df['movement']\n",
    "y_t = df['t']\n",
    "\n",
    "t_n = ['t-1']\n",
    "X = df[t_n]\n",
    "X_train, X_test, y_train_movement, y_test_movement = train_test_split(X,y_movement,test_size=0.3,random_state=42)\n",
    "\n",
    "# for t\n",
    "X_train, X_test, y_train_t, y_test_t = train_test_split(X,y_t,test_size=0.3,random_state=42)\n",
    "train_df = pd.concat([X_train,y_train_t,y_test_t],axis = 1)"
   ]
  },
  {
   "cell_type": "code",
   "execution_count": 31,
   "id": "2867518d-c5e1-49a1-b2f0-929b50af7566",
   "metadata": {},
   "outputs": [],
   "source": [
    "def split(filename, n):\n",
    "    df = pd.read_csv(filename)\n",
    "\n",
    "    y_movement = df['movement']\n",
    "    y_t = df['t']\n",
    "\n",
    "    if n == 1:\n",
    "        t_n = ['t-1']\n",
    "    else:\n",
    "        t_n = ['t-1','t-2', 't-3', 't-4', 't-5']\n",
    "    X = df[t_n]\n",
    "\n",
    "    # for movement\n",
    "    X_train, X_test, y_train_movement, y_test_movement = train_test_split(X,y_movement,test_size=0.3,random_state=42)\n",
    "\n",
    "    # for t\n",
    "    X_train, X_test, y_train_t, y_test_t = train_test_split(X,y_t,test_size=0.3,random_state=42)\n",
    "    train_df = pd.concat([X_train,y_train_t,y_train_movement],axis = 1)\n",
    "    test_df = pd.concat([X_test,y_test_t, y_test_movement],axis = 1)\n",
    "    return train_df, test_df"
   ]
  },
  {
   "cell_type": "code",
   "execution_count": 32,
   "id": "c37065be-9b3a-4a5a-8edb-c5e3390f0f4f",
   "metadata": {},
   "outputs": [],
   "source": [
    "one_one = ['df_day_1_1', \"df_day_1_1_v\", \"df_month_1_1\",\"df_month_1_1_v\", \"df_week_1_1\", \"df_week_1_1_v\"]\n",
    "five_one = ['df_day_5_1', \"df_day_5_1_v\", \"df_month_5_1\",\"df_month_5_1_v\", \"df_week_5_1\", \"df_week_5_1_v\"]\n",
    "for file in one_one:\n",
    "    train, test = split(file+\".csv\", 1)\n",
    "    train.to_csv(\"train \"+file+\".csv\")\n",
    "    test.to_csv(\"test\"+file+\".csv\")\n",
    "for file in five_one:\n",
    "    train, test = split(file+\".csv\", 5)\n",
    "    train.to_csv(\"train \"+file+\".csv\")\n",
    "    test.to_csv(\"test\"+file+\".csv\")"
   ]
  }
 ],
 "metadata": {
  "kernelspec": {
   "display_name": "Python 3",
   "language": "python",
   "name": "python3"
  },
  "language_info": {
   "codemirror_mode": {
    "name": "ipython",
    "version": 3
   },
   "file_extension": ".py",
   "mimetype": "text/x-python",
   "name": "python",
   "nbconvert_exporter": "python",
   "pygments_lexer": "ipython3",
   "version": "3.8.8"
  }
 },
 "nbformat": 4,
 "nbformat_minor": 5
}
