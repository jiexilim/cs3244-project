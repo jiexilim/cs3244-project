{
 "cells": [
  {
   "cell_type": "code",
   "execution_count": 87,
   "id": "1bc5791a",
   "metadata": {},
   "outputs": [],
   "source": [
    "import pandas as pd\n",
    "from pandas import to_datetime\n",
    "from fbprophet import Prophet\n",
    "import matplotlib.pyplot as plt"
   ]
  },
  {
   "cell_type": "code",
   "execution_count": 88,
   "id": "8d5b64e5",
   "metadata": {},
   "outputs": [],
   "source": [
    "df_appl = pd.read_csv('aapl.us.csv')\n",
    "df_ggl = pd.read_csv('googl.csv')\n",
    "df_msft = pd.read_csv('msft.csv')\n",
    "df_appl = df_appl[(df_appl['Date'] >= '2005-01-01')]\n",
    "df_msft = df_msft[(df_msft['Date'] >= '1998-01-01')]\n",
    "\n",
    "df_appl = df_appl[['Date', 'Close']]\n",
    "df_ggl = df_ggl[['Date', 'Close']]\n",
    "df_msft = df_msft[['Date', 'Close']]\n"
   ]
  },
  {
   "cell_type": "code",
   "execution_count": 81,
   "id": "2eb55ad4",
   "metadata": {},
   "outputs": [],
   "source": [
    "df_appl.columns = ['ds', 'y']\n",
    "df_appl['ds']= to_datetime(df_appl['ds'])\n",
    "# create test dataset, remove last 12 months\n",
    "train = df_appl[:2268]\n",
    "test = df_appl[2268:]"
   ]
  },
  {
   "cell_type": "code",
   "execution_count": 90,
   "id": "d5b0bcb9",
   "metadata": {},
   "outputs": [
    {
     "name": "stderr",
     "output_type": "stream",
     "text": [
      "INFO:fbprophet:Disabling daily seasonality. Run prophet with daily_seasonality=True to override this.\n"
     ]
    },
    {
     "data": {
      "text/plain": [
       "<fbprophet.forecaster.Prophet at 0x29ba54d6dc0>"
      ]
     },
     "execution_count": 90,
     "metadata": {},
     "output_type": "execute_result"
    }
   ],
   "source": [
    "# define the model\n",
    "model = Prophet()\n",
    "# fit the model\n",
    "model.fit(train)"
   ]
  },
  {
   "cell_type": "code",
   "execution_count": 97,
   "id": "aa996847",
   "metadata": {},
   "outputs": [],
   "source": [
    "forecast = model.predict(test[['ds']])"
   ]
  },
  {
   "cell_type": "code",
   "execution_count": 99,
   "id": "4dbb188f",
   "metadata": {},
   "outputs": [
    {
     "name": "stdout",
     "output_type": "stream",
     "text": [
      "          ds       yhat  yhat_lower  yhat_upper\n",
      "0 2014-01-07  70.127197   59.707148   81.237744\n",
      "1 2014-01-08  70.225225   59.591224   80.699726\n",
      "2 2014-01-09  70.158213   59.618564   80.425824\n",
      "3 2014-01-10  70.089156   58.969149   79.752379\n",
      "4 2014-01-13  70.229369   59.064738   80.779773\n"
     ]
    },
    {
     "data": {
      "text/plain": [
       "[<matplotlib.lines.Line2D at 0x29ba5187b20>]"
      ]
     },
     "execution_count": 99,
     "metadata": {},
     "output_type": "execute_result"
    },
    {
     "data": {
      "image/png": "[encoded data removed]",
      "text/plain": [
       "<Figure size 432x288 with 1 Axes>"
      ]
     },
     "metadata": {
      "needs_background": "light"
     },
     "output_type": "display_data"
    }
   ],
   "source": [
    "print(forecast[['ds', 'yhat', 'yhat_lower', 'yhat_upper']].head())\n",
    "# plot forecast\n",
    "y_true = test['y'].values\n",
    "y_pred = forecast['yhat'].values\n",
    "plt.plot(y_pred)\n",
    "plt.plot(y_true)\n",
    "# plt.plot(true_close)"
   ]
  },
  {
   "cell_type": "code",
   "execution_count": 101,
   "id": "4d79eb65",
   "metadata": {},
   "outputs": [
    {
     "data": {
      "text/plain": [
       "11.69287296381412"
      ]
     },
     "execution_count": 101,
     "metadata": {},
     "output_type": "execute_result"
    }
   ],
   "source": [
    "mae = mean_absolute_error(y_true, y_pred)\n",
    "mae"
   ]
  },
  {
   "cell_type": "code",
   "execution_count": null,
   "id": "cbe72442",
   "metadata": {},
   "outputs": [],
   "source": []
  }
 ],
 "metadata": {
  "kernelspec": {
   "display_name": "Python 3",
   "language": "python",
   "name": "python3"
  },
  "language_info": {
   "codemirror_mode": {
    "name": "ipython",
    "version": 3
   },
   "file_extension": ".py",
   "mimetype": "text/x-python",
   "name": "python",
   "nbconvert_exporter": "python",
   "pygments_lexer": "ipython3",
   "version": "3.8.8"
  }
 },
 "nbformat": 4,
 "nbformat_minor": 5
}
