{
 "cells": [
  {
   "cell_type": "code",
   "execution_count": 103,
   "id": "d8ed258a",
   "metadata": {},
   "outputs": [],
   "source": [
    "import pandas as pd\n",
    "import numpy as np\n",
    "from sklearn.ensemble import RandomForestClassifier\n",
    "from sklearn.tree import DecisionTreeClassifier\n",
    "from sklearn.metrics import accuracy_score\n",
    "from sklearn.model_selection import cross_validate, train_test_split, GridSearchCV\n",
    "from sklearn.pipeline import Pipeline\n",
    "from sklearn.preprocessing import StandardScaler\n",
    "from sklearn.metrics import plot_confusion_matrix, classification_report\n",
    "import matplotlib.pyplot as plt\n",
    "from sklearn.feature_selection import RFE\n",
    "from sklearn.metrics import precision_score, recall_score, f1_score,roc_auc_score, roc_curve"
   ]
  },
  {
   "cell_type": "code",
   "execution_count": 90,
   "id": "d2706830-dda3-42af-a3e0-c77f75580479",
   "metadata": {},
   "outputs": [],
   "source": [
    "def xgboost(train_data,test_data):\n",
    "    import xgboost as xgb\n",
    "    train = train_data.drop([\"t\",\"movement\"],1)\n",
    "    label_train = train_data[\"movement\"].astype(int)\n",
    "    test = test_data.drop([\"t\",\"movement\"],1)\n",
    "    label_test = test_data[\"movement\"].astype(int)\n",
    "    xgb_params = {'max_depth': [2,3], \n",
    "              'learning_rate': [x/10 for x in list(range(1,7))],\n",
    "              'n_estimators': [0, 25, 50],\n",
    "              'objective': ['binary:logistic']}\n",
    "\n",
    "    xgb_model = xgb.XGBClassifier(gamma=1, random_state=42, reg_lambda=200, use_label_encoder=False, eval_metric = 'logloss')\n",
    "    xgb_model = GridSearchCV(xgb_model, xgb_params, scoring='roc_auc')\n",
    "    xgb_model.fit(train, label_train)\n",
    "    print(xgb_model.best_estimator_)\n",
    "    evaluate_model(xgb_model, train, label_train)\n",
    "    "
   ]
  },
  {
   "cell_type": "code",
   "execution_count": 94,
   "id": "91be66c9-0edd-4d9e-a3e2-9a54b40d7cbd",
   "metadata": {},
   "outputs": [],
   "source": [
    "def randomforest(train_data, test_data):\n",
    "    train = train_data.drop([\"t\",\"movement\"],1)\n",
    "    label_train = train_data[\"movement\"].astype(int)\n",
    "    test = test_data.drop([\"t\",\"movement\"],1)\n",
    "    label_test = test_data[\"movement\"].astype(int)\n",
    "    rfc_parameters = {'n_estimators': [50, 100, 200],\n",
    "                'max_features': ['auto', 'sqrt', 'log2'],\n",
    "                'max_depth' : [3,4,5,6,7],\n",
    "                'criterion' :['gini', 'entropy'],\n",
    "                'random_state': [42]}\n",
    "\n",
    "    rfc_model = RandomForestClassifier()\n",
    "\n",
    "    rfc_model = GridSearchCV(rfc_model, rfc_parameters, scoring='roc_auc')\n",
    "\n",
    "    rfc_model = rfc_model.fit(train, label_train)\n",
    "\n",
    "    print(rfc_model.best_estimator_)\n",
    "\n",
    "    evaluate_model(rfc_model, train, label_train)"
   ]
  },
  {
   "cell_type": "code",
   "execution_count": 105,
   "id": "f835fa6d-3616-4b60-b51d-3bab3a70c6f2",
   "metadata": {},
   "outputs": [],
   "source": [
    "def decisiontree (train_data, test_data):\n",
    "    train = train_data.drop([\"t\",\"movement\"],1)\n",
    "    label_train = train_data[\"movement\"].astype(int)\n",
    "    test = test_data.drop([\"t\",\"movement\"],1)\n",
    "    label_test = test_data[\"movement\"].astype(int)\n",
    "    dt_params = {\"criterion\":['gini','entropy'],\n",
    "                 'max_depth':[3,4,5,6,7,8],\n",
    "                 'random_state': [42]}\n",
    "\n",
    "    dt_model = DecisionTreeClassifier()\n",
    "    dt_model = GridSearchCV(dt_model, dt_params, scoring='roc_auc')\n",
    "    dt_model.fit(train, label_train)\n",
    "    print(dt_model.best_estimator_)\n",
    "    evaluate_model(dt_model, train, label_train)"
   ]
  },
  {
   "cell_type": "code",
   "execution_count": 86,
   "id": "d83ef00c-968d-474f-9ef2-1685dbaee68d",
   "metadata": {},
   "outputs": [],
   "source": [
    "def evaluate_model(model, test, label_test):\n",
    "\n",
    "    predicted = model.predict(test)\n",
    "    print(\"accuracy:\", str(accuracy_score(label_test, predicted)))\n",
    "    \n",
    "    print(\"precision:\", str(precision_score(label_test, predicted, average='weighted')))\n",
    "\n",
    "    print(\"recall:\", str(recall_score(label_test, predicted, average='weighted')))\n",
    "   \n",
    "    print(\"f1\", str(f1_score(label_test, predicted, average='weighted')))\n",
    "    \n",
    "    print(\"metrics.roc_auc_score\", str(roc_auc_score(label_test, predicted, average='weighted')))\n",
    "\n",
    "    plot_confusion_matrix(model, test, label_test,\n",
    "                      display_labels=list(set(label_test)),\n",
    "                      cmap=plt.cm.Blues)\n",
    "    \n",
    "    classification = classification_report(label_test, predicted)\n",
    "    print(classification)"
   ]
  },
  {
   "cell_type": "code",
   "execution_count": null,
   "id": "a569ae66",
   "metadata": {},
   "outputs": [],
   "source": [
    "one_one = ['df_day_1_1', \"df_day_1_1_v\", \"df_month_1_1\",\"df_month_1_1_v\", \"df_week_1_1\", \"df_week_1_1_v\"]\n",
    "five_one = ['df_day_5_1', \"df_day_5_1_v\", \"df_month_5_1\",\"df_month_5_1_v\", \"df_week_5_1\", \"df_week_5_1_v\"]"
   ]
  },
  {
   "cell_type": "code",
   "execution_count": 101,
   "id": "7a677676",
   "metadata": {},
   "outputs": [],
   "source": [
    "train = pd.read_csv('./data_preprocess/train df_day_1_1.csv')\n",
    "test = pd.read_csv('./data_preprocess/testdf_day_1_1.csv')"
   ]
  },
  {
   "cell_type": "code",
   "execution_count": 93,
   "id": "65c1942d-3aef-4e69-85a6-ccf39ffb4578",
   "metadata": {},
   "outputs": [
    {
     "name": "stdout",
     "output_type": "stream",
     "text": [
      "XGBClassifier(base_score=0.5, booster='gbtree', colsample_bylevel=1,\n",
      "              colsample_bynode=1, colsample_bytree=1, eval_metric='logloss',\n",
      "              gamma=1, gpu_id=-1, importance_type='gain',\n",
      "              interaction_constraints='', learning_rate=0.4, max_delta_step=0,\n",
      "              max_depth=2, min_child_weight=1, missing=nan,\n",
      "              monotone_constraints='()', n_estimators=25, n_jobs=8,\n",
      "              num_parallel_tree=1, random_state=42, reg_alpha=0, reg_lambda=200,\n",
      "              scale_pos_weight=1, subsample=1, tree_method='exact',\n",
      "              use_label_encoder=False, validate_parameters=1, verbosity=None)\n",
      "accuracy: 0.5623762376237624\n",
      "precision: 0.5634512956246119\n",
      "recall: 0.5623762376237624\n",
      "f1 0.5579706467527069\n",
      "metrics.roc_auc_score 0.5610018197791165\n",
      "              precision    recall  f1-score   support\n",
      "\n",
      "           0       0.57      0.46      0.51       249\n",
      "           1       0.56      0.66      0.60       256\n",
      "\n",
      "    accuracy                           0.56       505\n",
      "   macro avg       0.56      0.56      0.56       505\n",
      "weighted avg       0.56      0.56      0.56       505\n",
      "\n"
     ]
    },
    {
     "data": {
      "image/png": "[encoded data removed]",
      "text/plain": [
       "<Figure size 432x288 with 2 Axes>"
      ]
     },
     "metadata": {
      "needs_background": "light"
     },
     "output_type": "display_data"
    }
   ],
   "source": [
    "xgboost(train, test)"
   ]
  },
  {
   "cell_type": "code",
   "execution_count": 102,
   "id": "3f1aa9ac-3671-406a-afc4-b412380177be",
   "metadata": {},
   "outputs": [
    {
     "name": "stdout",
     "output_type": "stream",
     "text": [
      "RandomForestClassifier(criterion='entropy', max_depth=7, random_state=42)\n",
      "accuracy: 0.7623762376237624\n",
      "precision: 0.7700407309023586\n",
      "recall: 0.7623762376237624\n",
      "f1 0.76026380884214\n",
      "metrics.roc_auc_score 0.7611226154618473\n",
      "              precision    recall  f1-score   support\n",
      "\n",
      "           0       0.81      0.67      0.74       249\n",
      "           1       0.73      0.85      0.78       256\n",
      "\n",
      "    accuracy                           0.76       505\n",
      "   macro avg       0.77      0.76      0.76       505\n",
      "weighted avg       0.77      0.76      0.76       505\n",
      "\n"
     ]
    },
    {
     "data": {
      "image/png": "[encoded data removed]",
      "text/plain": [
       "<Figure size 432x288 with 2 Axes>"
      ]
     },
     "metadata": {
      "needs_background": "light"
     },
     "output_type": "display_data"
    }
   ],
   "source": [
    "randomforest(train, test)"
   ]
  },
  {
   "cell_type": "code",
   "execution_count": 106,
   "id": "2a4cae76-5239-4d8d-a083-f8da8f573369",
   "metadata": {},
   "outputs": [
    {
     "name": "stdout",
     "output_type": "stream",
     "text": [
      "DecisionTreeClassifier(criterion='entropy', max_depth=8, random_state=42)\n",
      "accuracy: 0.6178217821782178\n",
      "precision: 0.6360645815587971\n",
      "recall: 0.6178217821782178\n",
      "f1 0.6020344284714088\n",
      "metrics.roc_auc_score 0.6150853413654618\n",
      "              precision    recall  f1-score   support\n",
      "\n",
      "           0       0.68      0.42      0.52       249\n",
      "           1       0.59      0.81      0.68       256\n",
      "\n",
      "    accuracy                           0.62       505\n",
      "   macro avg       0.64      0.62      0.60       505\n",
      "weighted avg       0.64      0.62      0.60       505\n",
      "\n"
     ]
    },
    {
     "data": {
      "image/png": "[encoded data removed]",
      "text/plain": [
       "<Figure size 432x288 with 2 Axes>"
      ]
     },
     "metadata": {
      "needs_background": "light"
     },
     "output_type": "display_data"
    }
   ],
   "source": [
    "decisiontree(train,test)"
   ]
  }
 ],
 "metadata": {
  "kernelspec": {
   "display_name": "Python 3",
   "language": "python",
   "name": "python3"
  },
  "language_info": {
   "codemirror_mode": {
    "name": "ipython",
    "version": 3
   },
   "file_extension": ".py",
   "mimetype": "text/x-python",
   "name": "python",
   "nbconvert_exporter": "python",
   "pygments_lexer": "ipython3",
   "version": "3.8.8"
  }
 },
 "nbformat": 4,
 "nbformat_minor": 5
}
