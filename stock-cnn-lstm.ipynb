{
 "cells": [
  {
   "cell_type": "code",
   "execution_count": 29,
   "metadata": {
    "_cell_guid": "d3708b80-448a-4147-bd74-b024a32c8b20",
    "_uuid": "b654da3c-3853-442b-bdc9-7690b0f707ff",
    "collapsed": false,
    "jupyter": {
     "outputs_hidden": false
    }
   },
   "outputs": [],
   "source": [
    "# This Python 3 environment comes with many helpful analytics libraries installed\n",
    "# It is defined by the kaggle/python Docker image: https://github.com/kaggle/docker-python\n",
    "# For example, here's several helpful packages to load\n",
    "\n",
    "import numpy as np # linear algebra\n",
    "import pandas as pd # data processing, CSV file I/O (e.g. pd.read_csv)\n",
    "\n",
    "# Input data files are available in the read-only \"../input/\" directory\n",
    "# For example, running this (by clicking run or pressing Shift+Enter) will list all files under the input directory\n",
    "\n",
    "import os\n",
    "#for dirname, _, filenames in os.walk('/kaggle/input'):\n",
    "#    for filename in filenames:\n",
    "#        print(os.path.join(dirname, filename))\n",
    "\n",
    "# You can write up to 20GB to the current directory (/kaggle/working/) that gets preserved as output when you create a version using \"Save & Run All\" \n",
    "# You can also write temporary files to /kaggle/temp/, but they won't be saved outside of the current session"
   ]
  },
  {
   "cell_type": "markdown",
   "metadata": {
    "_cell_guid": "9e2f1788-ea6e-4ecf-a8dc-72955651e180",
    "_uuid": "193d3318-ed0f-4127-871b-353327004c05"
   },
   "source": [
    "## Data Preprocessing and Analysis"
   ]
  },
  {
   "cell_type": "code",
   "execution_count": 30,
   "metadata": {
    "_cell_guid": "2f45a5e5-81c3-487c-9af9-55a861cd8442",
    "_uuid": "16ff13f2-43a8-41b4-9294-419e4e5d8c47",
    "collapsed": false,
    "jupyter": {
     "outputs_hidden": false
    }
   },
   "outputs": [],
   "source": [
    "import math\n",
    "import seaborn as sns\n",
    "import datetime as dt\n",
    "from datetime import datetime    \n",
    "sns.set_style(\"whitegrid\")\n",
    "from pandas.plotting import autocorrelation_plot\n",
    "import matplotlib.pyplot as plt\n",
    "%matplotlib inline\n",
    "plt.style.use(\"ggplot\")"
   ]
  },
  {
   "cell_type": "code",
   "execution_count": 31,
   "metadata": {
    "_cell_guid": "58242de1-e47b-467a-8423-b74dd6c0b443",
    "_uuid": "30725bc7-a6bd-4323-84f1-15905a8f0faf",
    "collapsed": false,
    "jupyter": {
     "outputs_hidden": false
    }
   },
   "outputs": [
    {
     "data": {
      "text/html": [
       "<div>\n",
       "<style scoped>\n",
       "    .dataframe tbody tr th:only-of-type {\n",
       "        vertical-align: middle;\n",
       "    }\n",
       "\n",
       "    .dataframe tbody tr th {\n",
       "        vertical-align: top;\n",
       "    }\n",
       "\n",
       "    .dataframe thead th {\n",
       "        text-align: right;\n",
       "    }\n",
       "</style>\n",
       "<table border=\"1\" class=\"dataframe\">\n",
       "  <thead>\n",
       "    <tr style=\"text-align: right;\">\n",
       "      <th></th>\n",
       "      <th>Date</th>\n",
       "      <th>Open</th>\n",
       "      <th>High</th>\n",
       "      <th>Low</th>\n",
       "      <th>Close</th>\n",
       "      <th>Volume</th>\n",
       "      <th>OpenInt</th>\n",
       "    </tr>\n",
       "  </thead>\n",
       "  <tbody>\n",
       "    <tr>\n",
       "      <th>5125</th>\n",
       "      <td>2005-01-03</td>\n",
       "      <td>4.1529</td>\n",
       "      <td>4.1685</td>\n",
       "      <td>4.0083</td>\n",
       "      <td>4.0519</td>\n",
       "      <td>193279926</td>\n",
       "      <td>0</td>\n",
       "    </tr>\n",
       "    <tr>\n",
       "      <th>5126</th>\n",
       "      <td>2005-01-04</td>\n",
       "      <td>4.0825</td>\n",
       "      <td>4.1915</td>\n",
       "      <td>4.0314</td>\n",
       "      <td>4.0940</td>\n",
       "      <td>306165093</td>\n",
       "      <td>0</td>\n",
       "    </tr>\n",
       "    <tr>\n",
       "      <th>5127</th>\n",
       "      <td>2005-01-05</td>\n",
       "      <td>4.0940</td>\n",
       "      <td>4.1775</td>\n",
       "      <td>4.0940</td>\n",
       "      <td>4.1300</td>\n",
       "      <td>189804833</td>\n",
       "      <td>0</td>\n",
       "    </tr>\n",
       "    <tr>\n",
       "      <th>5128</th>\n",
       "      <td>2005-01-06</td>\n",
       "      <td>4.1491</td>\n",
       "      <td>4.1556</td>\n",
       "      <td>4.0545</td>\n",
       "      <td>4.1324</td>\n",
       "      <td>196766476</td>\n",
       "      <td>0</td>\n",
       "    </tr>\n",
       "    <tr>\n",
       "      <th>5129</th>\n",
       "      <td>2005-01-07</td>\n",
       "      <td>4.1646</td>\n",
       "      <td>4.4578</td>\n",
       "      <td>4.1469</td>\n",
       "      <td>4.4336</td>\n",
       "      <td>623374174</td>\n",
       "      <td>0</td>\n",
       "    </tr>\n",
       "  </tbody>\n",
       "</table>\n",
       "</div>"
      ],
      "text/plain": [
       "            Date    Open    High     Low   Close     Volume  OpenInt\n",
       "5125  2005-01-03  4.1529  4.1685  4.0083  4.0519  193279926        0\n",
       "5126  2005-01-04  4.0825  4.1915  4.0314  4.0940  306165093        0\n",
       "5127  2005-01-05  4.0940  4.1775  4.0940  4.1300  189804833        0\n",
       "5128  2005-01-06  4.1491  4.1556  4.0545  4.1324  196766476        0\n",
       "5129  2005-01-07  4.1646  4.4578  4.1469  4.4336  623374174        0"
      ]
     },
     "execution_count": 31,
     "metadata": {},
     "output_type": "execute_result"
    }
   ],
   "source": [
    "# For data preprocessing and analysis part\n",
    "data = pd.read_csv('./data_preprocess_v2/aapl.us.csv')\n",
    "# Any CSV or TXT file can be added here....\n",
    "data.dropna(inplace=True)\n",
    "data = data[data[\"Date\"]>='2005-01-01']\n",
    "data.head()"
   ]
  },
  {
   "cell_type": "code",
   "execution_count": 32,
   "metadata": {
    "_cell_guid": "a38e4883-a977-49c9-8ac7-1cf5e73f5136",
    "_uuid": "195541f5-e986-49ff-8eba-08d73572313b",
    "collapsed": false,
    "jupyter": {
     "outputs_hidden": false
    }
   },
   "outputs": [
    {
     "name": "stdout",
     "output_type": "stream",
     "text": [
      "<class 'pandas.core.frame.DataFrame'>\n",
      "Int64Index: 3239 entries, 5125 to 8363\n",
      "Data columns (total 7 columns):\n",
      " #   Column   Non-Null Count  Dtype  \n",
      "---  ------   --------------  -----  \n",
      " 0   Date     3239 non-null   object \n",
      " 1   Open     3239 non-null   float64\n",
      " 2   High     3239 non-null   float64\n",
      " 3   Low      3239 non-null   float64\n",
      " 4   Close    3239 non-null   float64\n",
      " 5   Volume   3239 non-null   int64  \n",
      " 6   OpenInt  3239 non-null   int64  \n",
      "dtypes: float64(4), int64(2), object(1)\n",
      "memory usage: 202.4+ KB\n"
     ]
    }
   ],
   "source": [
    "data.info()"
   ]
  },
  {
   "cell_type": "code",
   "execution_count": 33,
   "metadata": {
    "_cell_guid": "3890bf76-dd2c-4bac-809f-17b22e764e78",
    "_uuid": "6db88ee6-0b98-4596-82a2-b95fbaf9eddf",
    "collapsed": false,
    "jupyter": {
     "outputs_hidden": false
    }
   },
   "outputs": [
    {
     "data": {
      "text/html": [
       "<div>\n",
       "<style scoped>\n",
       "    .dataframe tbody tr th:only-of-type {\n",
       "        vertical-align: middle;\n",
       "    }\n",
       "\n",
       "    .dataframe tbody tr th {\n",
       "        vertical-align: top;\n",
       "    }\n",
       "\n",
       "    .dataframe thead th {\n",
       "        text-align: right;\n",
       "    }\n",
       "</style>\n",
       "<table border=\"1\" class=\"dataframe\">\n",
       "  <thead>\n",
       "    <tr style=\"text-align: right;\">\n",
       "      <th></th>\n",
       "      <th>Open</th>\n",
       "      <th>High</th>\n",
       "      <th>Low</th>\n",
       "      <th>Close</th>\n",
       "      <th>Volume</th>\n",
       "      <th>OpenInt</th>\n",
       "    </tr>\n",
       "  </thead>\n",
       "  <tbody>\n",
       "    <tr>\n",
       "      <th>count</th>\n",
       "      <td>3239.000000</td>\n",
       "      <td>3239.000000</td>\n",
       "      <td>3239.000000</td>\n",
       "      <td>3239.000000</td>\n",
       "      <td>3.239000e+03</td>\n",
       "      <td>3239.0</td>\n",
       "    </tr>\n",
       "    <tr>\n",
       "      <th>mean</th>\n",
       "      <td>55.495604</td>\n",
       "      <td>55.999860</td>\n",
       "      <td>54.942818</td>\n",
       "      <td>55.486652</td>\n",
       "      <td>1.500560e+08</td>\n",
       "      <td>0.0</td>\n",
       "    </tr>\n",
       "    <tr>\n",
       "      <th>std</th>\n",
       "      <td>43.379806</td>\n",
       "      <td>43.675163</td>\n",
       "      <td>43.073039</td>\n",
       "      <td>43.389196</td>\n",
       "      <td>1.163292e+08</td>\n",
       "      <td>0.0</td>\n",
       "    </tr>\n",
       "    <tr>\n",
       "      <th>min</th>\n",
       "      <td>4.082500</td>\n",
       "      <td>4.155600</td>\n",
       "      <td>4.008300</td>\n",
       "      <td>4.051900</td>\n",
       "      <td>0.000000e+00</td>\n",
       "      <td>0.0</td>\n",
       "    </tr>\n",
       "    <tr>\n",
       "      <th>25%</th>\n",
       "      <td>16.202000</td>\n",
       "      <td>16.531500</td>\n",
       "      <td>15.835500</td>\n",
       "      <td>16.200500</td>\n",
       "      <td>6.267406e+07</td>\n",
       "      <td>0.0</td>\n",
       "    </tr>\n",
       "    <tr>\n",
       "      <th>50%</th>\n",
       "      <td>45.114000</td>\n",
       "      <td>45.380000</td>\n",
       "      <td>44.618000</td>\n",
       "      <td>45.046000</td>\n",
       "      <td>1.231571e+08</td>\n",
       "      <td>0.0</td>\n",
       "    </tr>\n",
       "    <tr>\n",
       "      <th>75%</th>\n",
       "      <td>90.952500</td>\n",
       "      <td>91.724500</td>\n",
       "      <td>90.002000</td>\n",
       "      <td>90.979500</td>\n",
       "      <td>2.042118e+08</td>\n",
       "      <td>0.0</td>\n",
       "    </tr>\n",
       "    <tr>\n",
       "      <th>max</th>\n",
       "      <td>175.110000</td>\n",
       "      <td>175.610000</td>\n",
       "      <td>174.270000</td>\n",
       "      <td>175.610000</td>\n",
       "      <td>9.396953e+08</td>\n",
       "      <td>0.0</td>\n",
       "    </tr>\n",
       "  </tbody>\n",
       "</table>\n",
       "</div>"
      ],
      "text/plain": [
       "              Open         High          Low        Close        Volume  \\\n",
       "count  3239.000000  3239.000000  3239.000000  3239.000000  3.239000e+03   \n",
       "mean     55.495604    55.999860    54.942818    55.486652  1.500560e+08   \n",
       "std      43.379806    43.675163    43.073039    43.389196  1.163292e+08   \n",
       "min       4.082500     4.155600     4.008300     4.051900  0.000000e+00   \n",
       "25%      16.202000    16.531500    15.835500    16.200500  6.267406e+07   \n",
       "50%      45.114000    45.380000    44.618000    45.046000  1.231571e+08   \n",
       "75%      90.952500    91.724500    90.002000    90.979500  2.042118e+08   \n",
       "max     175.110000   175.610000   174.270000   175.610000  9.396953e+08   \n",
       "\n",
       "       OpenInt  \n",
       "count   3239.0  \n",
       "mean       0.0  \n",
       "std        0.0  \n",
       "min        0.0  \n",
       "25%        0.0  \n",
       "50%        0.0  \n",
       "75%        0.0  \n",
       "max        0.0  "
      ]
     },
     "execution_count": 33,
     "metadata": {},
     "output_type": "execute_result"
    }
   ],
   "source": [
    "data.describe()"
   ]
  },
  {
   "cell_type": "code",
   "execution_count": 34,
   "metadata": {
    "_cell_guid": "4d0f3b44-d3e7-48c3-934f-138b8d58156b",
    "_uuid": "d19a8315-d8d7-49fd-849c-910588fdc14f",
    "collapsed": false,
    "jupyter": {
     "outputs_hidden": false
    }
   },
   "outputs": [
    {
     "data": {
      "text/plain": [
       "Date       0\n",
       "Open       0\n",
       "High       0\n",
       "Low        0\n",
       "Close      0\n",
       "Volume     0\n",
       "OpenInt    0\n",
       "dtype: int64"
      ]
     },
     "execution_count": 34,
     "metadata": {},
     "output_type": "execute_result"
    }
   ],
   "source": [
    "data.isnull().sum()"
   ]
  },
  {
   "cell_type": "code",
   "execution_count": 35,
   "metadata": {
    "_cell_guid": "871657e3-7f35-4661-9738-aaadc695c73e",
    "_uuid": "728decdd-eed2-4de8-bf23-99c5267311d8",
    "collapsed": false,
    "jupyter": {
     "outputs_hidden": false
    }
   },
   "outputs": [
    {
     "data": {
      "text/html": [
       "<div>\n",
       "<style scoped>\n",
       "    .dataframe tbody tr th:only-of-type {\n",
       "        vertical-align: middle;\n",
       "    }\n",
       "\n",
       "    .dataframe tbody tr th {\n",
       "        vertical-align: top;\n",
       "    }\n",
       "\n",
       "    .dataframe thead th {\n",
       "        text-align: right;\n",
       "    }\n",
       "</style>\n",
       "<table border=\"1\" class=\"dataframe\">\n",
       "  <thead>\n",
       "    <tr style=\"text-align: right;\">\n",
       "      <th></th>\n",
       "      <th>Date</th>\n",
       "      <th>Open</th>\n",
       "      <th>High</th>\n",
       "      <th>Low</th>\n",
       "      <th>Close</th>\n",
       "      <th>Volume</th>\n",
       "      <th>OpenInt</th>\n",
       "    </tr>\n",
       "  </thead>\n",
       "  <tbody>\n",
       "    <tr>\n",
       "      <th>0</th>\n",
       "      <td>2005-01-03</td>\n",
       "      <td>4.1529</td>\n",
       "      <td>4.1685</td>\n",
       "      <td>4.0083</td>\n",
       "      <td>4.0519</td>\n",
       "      <td>193279926</td>\n",
       "      <td>0</td>\n",
       "    </tr>\n",
       "    <tr>\n",
       "      <th>1</th>\n",
       "      <td>2005-01-04</td>\n",
       "      <td>4.0825</td>\n",
       "      <td>4.1915</td>\n",
       "      <td>4.0314</td>\n",
       "      <td>4.0940</td>\n",
       "      <td>306165093</td>\n",
       "      <td>0</td>\n",
       "    </tr>\n",
       "    <tr>\n",
       "      <th>2</th>\n",
       "      <td>2005-01-05</td>\n",
       "      <td>4.0940</td>\n",
       "      <td>4.1775</td>\n",
       "      <td>4.0940</td>\n",
       "      <td>4.1300</td>\n",
       "      <td>189804833</td>\n",
       "      <td>0</td>\n",
       "    </tr>\n",
       "    <tr>\n",
       "      <th>3</th>\n",
       "      <td>2005-01-06</td>\n",
       "      <td>4.1491</td>\n",
       "      <td>4.1556</td>\n",
       "      <td>4.0545</td>\n",
       "      <td>4.1324</td>\n",
       "      <td>196766476</td>\n",
       "      <td>0</td>\n",
       "    </tr>\n",
       "    <tr>\n",
       "      <th>4</th>\n",
       "      <td>2005-01-07</td>\n",
       "      <td>4.1646</td>\n",
       "      <td>4.4578</td>\n",
       "      <td>4.1469</td>\n",
       "      <td>4.4336</td>\n",
       "      <td>623374174</td>\n",
       "      <td>0</td>\n",
       "    </tr>\n",
       "  </tbody>\n",
       "</table>\n",
       "</div>"
      ],
      "text/plain": [
       "         Date    Open    High     Low   Close     Volume  OpenInt\n",
       "0  2005-01-03  4.1529  4.1685  4.0083  4.0519  193279926        0\n",
       "1  2005-01-04  4.0825  4.1915  4.0314  4.0940  306165093        0\n",
       "2  2005-01-05  4.0940  4.1775  4.0940  4.1300  189804833        0\n",
       "3  2005-01-06  4.1491  4.1556  4.0545  4.1324  196766476        0\n",
       "4  2005-01-07  4.1646  4.4578  4.1469  4.4336  623374174        0"
      ]
     },
     "execution_count": 35,
     "metadata": {},
     "output_type": "execute_result"
    }
   ],
   "source": [
    "data.reset_index(drop=True, inplace=True)\n",
    "data.fillna(data.mean(), inplace=True)\n",
    "data.head()"
   ]
  },
  {
   "cell_type": "code",
   "execution_count": 36,
   "metadata": {
    "_cell_guid": "4b2dc9db-7266-40c8-8783-b54bb7db75df",
    "_uuid": "bb784e83-715d-4bc5-846e-584c5bb2725e",
    "collapsed": false,
    "jupyter": {
     "outputs_hidden": false
    }
   },
   "outputs": [
    {
     "data": {
      "image/png": "[encoded data removed]",
      "text/plain": [
       "<Figure size 792x648 with 4 Axes>"
      ]
     },
     "metadata": {},
     "output_type": "display_data"
    }
   ],
   "source": [
    "cols_plot = ['Open', 'Close', 'High','Low']\n",
    "axes = data[cols_plot].plot(marker='.', alpha=0.5, linestyle='None', figsize=(11, 9), subplots=True)\n",
    "for ax in axes:\n",
    "    ax.set_ylabel('Daily trade')"
   ]
  },
  {
   "cell_type": "code",
   "execution_count": 37,
   "metadata": {
    "_cell_guid": "63c6513d-3572-4383-ae34-d13c5af5c5c4",
    "_uuid": "8a0ce270-aa2a-48fc-a2ec-84cac11f5ec3",
    "collapsed": false,
    "jupyter": {
     "outputs_hidden": false
    }
   },
   "outputs": [
    {
     "name": "stdout",
     "output_type": "stream",
     "text": [
      "          Open      High       Low     Close     Volume  OpenInt\n",
      "0       4.1529    4.1685    4.0083    4.0519  193279926        0\n",
      "1       4.0825    4.1915    4.0314    4.0940  306165093        0\n",
      "2       4.0940    4.1775    4.0940    4.1300  189804833        0\n",
      "3       4.1491    4.1556    4.0545    4.1324  196766476        0\n",
      "4       4.1646    4.4578    4.1469    4.4336  623374174        0\n",
      "...        ...       ...       ...       ...        ...      ...\n",
      "3234  171.7500  174.3600  171.1000  173.6300   34901241        0\n",
      "3235  173.2900  174.5100  173.2900  174.1800   24424877        0\n",
      "3236  174.0300  175.6100  173.7100  175.6100   24451166        0\n",
      "3237  174.4800  175.4600  172.5200  175.2500   29533086        0\n",
      "3238  175.1100  175.3800  174.2700  174.6700   25130494        0\n",
      "\n",
      "[3239 rows x 6 columns]\n"
     ]
    },
    {
     "data": {
      "image/png": "[encoded data removed]",
      "text/plain": [
       "<Figure size 432x288 with 1 Axes>"
      ]
     },
     "metadata": {},
     "output_type": "display_data"
    }
   ],
   "source": [
    "plt.plot(data['Close'], label=\"Close price\")\n",
    "plt.xlabel(\"Timestamp\")\n",
    "plt.ylabel(\"Closing price\")\n",
    "\n",
    "df = data.drop('Date', axis=1)\n",
    "print(df)"
   ]
  },
  {
   "cell_type": "code",
   "execution_count": 45,
   "metadata": {
    "_cell_guid": "ac3f2c43-f5f5-494a-bd28-24620ee87e2b",
    "_uuid": "896a3ab5-1cdb-4bc4-aa5c-05399e9b841c",
    "collapsed": false,
    "jupyter": {
     "outputs_hidden": false
    },
    "tags": []
   },
   "outputs": [],
   "source": [
    "from sklearn.model_selection import train_test_split\n",
    "\n",
    "X = []\n",
    "Y = []\n",
    "window_size=10\n",
    "for i in range(1 , len(df) - window_size -1 , 1):\n",
    "    first = df.iloc[i,3]\n",
    "    temp = []\n",
    "    temp2 = []\n",
    "    for j in range(window_size):\n",
    "        temp.append((df.iloc[i + j, 3] - first) / first)\n",
    "    # for j in range(week):\n",
    "    temp2.append((df.iloc[i + window_size, 3] - first) / first)\n",
    "    # X.append(np.array(stock.iloc[i:i+window_size,4]).reshape(50,1))\n",
    "    # Y.append(np.array(stock.iloc[i+window_size,4]).reshape(1,1))\n",
    "    # print(stock2.iloc[i:i+window_size,4])\n",
    "    X.append(np.array(temp).reshape(10, 1))\n",
    "    Y.append(np.array(temp2).reshape(1, 1))\n",
    "\n",
    "x_train, x_test, y_train, y_test = train_test_split(X, Y, test_size=0.2, shuffle=True)\n",
    "\n",
    "train_X = np.array(x_train)\n",
    "test_X = np.array(x_test)\n",
    "train_Y = np.array(y_train)\n",
    "test_Y = np.array(y_test)\n",
    "\n",
    "train_X = train_X.reshape(train_X.shape[0],1,10,1)\n",
    "test_X = test_X.reshape(test_X.shape[0],1,10,1)"
   ]
  },
  {
   "cell_type": "markdown",
   "metadata": {
    "_cell_guid": "ee4a3509-0d75-4e84-8d5f-27c3a10e34e3",
    "_uuid": "b5ac5374-d8b7-41de-a0d1-f94ca3d913bc"
   },
   "source": [
    "## Training part"
   ]
  },
  {
   "cell_type": "code",
   "execution_count": null,
   "metadata": {
    "_cell_guid": "48c12d51-3d8c-47f8-9558-ce21c09baf6f",
    "_uuid": "7d0d7e9f-c3fc-4e5e-930b-6a2cb88614a2",
    "collapsed": false,
    "jupyter": {
     "outputs_hidden": false
    }
   },
   "outputs": [],
   "source": [
    "# For creating model and training\n",
    "import tensorflow as tf\n",
    "from tensorflow.keras.layers import Conv1D, LSTM, Dense, Dropout, Bidirectional, TimeDistributed\n",
    "from tensorflow.keras.layers import MaxPooling1D, Flatten\n",
    "from tensorflow.keras.regularizers import L1, L2\n",
    "from tensorflow.keras.metrics import Accuracy\n",
    "\n",
    "model = tf.keras.Sequential()\n",
    "\n",
    "# Creating the Neural Network model here...\n",
    "model.add(TimeDistributed(Conv1D(64, kernel_size=1, activation='relu', input_shape=(None, 50, 1))))\n",
    "model.add(TimeDistributed(MaxPooling1D(2)))\n",
    "model.add(TimeDistributed(Conv1D(128, kernel_size=1, activation='relu')))\n",
    "model.add(TimeDistributed(MaxPooling1D(2)))\n",
    "model.add(TimeDistributed(Conv1D(64, kernel_size=1, activation='relu')))\n",
    "model.add(TimeDistributed(MaxPooling1D(2)))\n",
    "model.add(TimeDistributed(Flatten()))\n",
    "model.add(Dense(5, kernel_regularizer=L1(0.01)))\n",
    "model.add(Bidirectional(LSTM(200, return_sequences=True)))\n",
    "model.add(Dropout(0.25))\n",
    "model.add(Bidirectional(LSTM(200, return_sequences=False)))\n",
    "model.add(Dropout(0.5))\n",
    "model.add(Dense(1, activation='linear'))\n",
    "model.compile(optimizer='adam', loss='mse', metrics=[Accuracy()])\n",
    "\n",
    "history = model.fit(train_X, train_Y, validation_data=(test_X,test_Y), epochs=25,batch_size=64, verbose=1, shuffle =True)"
   ]
  },
  {
   "cell_type": "code",
   "execution_count": null,
   "metadata": {
    "_cell_guid": "d2349370-f8fd-47a5-94d6-6a2e4f79ef19",
    "_uuid": "ffc56319-e169-478d-bbe4-d7d6163c6bc8",
    "collapsed": false,
    "jupyter": {
     "outputs_hidden": false
    }
   },
   "outputs": [],
   "source": [
    "# After the model has been constructed, we need to train\n",
    "from tensorflow.keras.utils import plot_model\n",
    "print(model.summary())\n",
    "plot_model(model, to_file='model.png', show_shapes=True, show_layer_names=True)"
   ]
  },
  {
   "cell_type": "code",
   "execution_count": null,
   "metadata": {
    "_cell_guid": "cc36fd69-972e-4f16-bf11-227e694e9fb0",
    "_uuid": "14a22bce-8268-4c07-a3bf-172da7859a8f",
    "collapsed": false,
    "jupyter": {
     "outputs_hidden": false
    }
   },
   "outputs": [],
   "source": [
    "plt.plot(history.history['loss'], label='train loss')\n",
    "plt.plot(history.history['val_loss'], label='val loss')\n",
    "plt.xlabel(\"epoch\")\n",
    "plt.ylabel(\"Loss\")\n",
    "plt.legend()"
   ]
  },
  {
   "cell_type": "code",
   "execution_count": null,
   "metadata": {
    "_cell_guid": "1e8bd5d2-2d4d-4722-b790-89b5578d664c",
    "_uuid": "f5481afb-22cf-4764-94c4-fac850e2a575",
    "collapsed": false,
    "jupyter": {
     "outputs_hidden": false
    }
   },
   "outputs": [],
   "source": [
    "model.evaluate(test_X, test_Y)"
   ]
  },
  {
   "cell_type": "code",
   "execution_count": null,
   "metadata": {
    "_cell_guid": "abe522e3-f058-4268-b14b-3f74eb9a0b21",
    "_uuid": "29c3f343-395e-4e96-896f-bf8f96de248e",
    "collapsed": false,
    "jupyter": {
     "outputs_hidden": false
    }
   },
   "outputs": [],
   "source": [
    "predicted  = model.predict(test_X)\n",
    "test_label = (test_Y)\n",
    "predicted = np.array(predicted[:,0]).reshape(-1,1)\n",
    "len_t = len(train_X)\n",
    "for j in range(len_t , len_t + len(test_X)):\n",
    "    temp =data.iloc[j,3]\n",
    "    test_label[j - len_t] = test_label[j - len_t] * temp + temp\n",
    "    predicted[j - len_t] = predicted[j - len_t] * temp + temp\n",
    "plt.plot(predicted, color = 'green', label = 'Predicted  Stock Price')\n",
    "plt.title(' Stock Price Prediction')\n",
    "plt.xlabel('Time')\n",
    "plt.ylabel(' Stock Price')\n",
    "plt.legend()\n",
    "plt.show()"
   ]
  },
  {
   "cell_type": "code",
   "execution_count": null,
   "metadata": {},
   "outputs": [],
   "source": [
    "pip freeze > requirements.txt"
   ]
  },
  {
   "cell_type": "markdown",
   "metadata": {
    "_cell_guid": "8da95fd6-776a-47b8-ac07-671da7179f23",
    "_uuid": "b24c6a85-a3bf-48d4-8a09-0418aec0baeb"
   },
   "source": [
    "## Testing part"
   ]
  },
  {
   "cell_type": "code",
   "execution_count": null,
   "metadata": {
    "_cell_guid": "451929f3-b0df-486c-adc1-c148df4c49ab",
    "_uuid": "73dee0f9-e0eb-47f1-bbca-db73313bd13f",
    "collapsed": false,
    "jupyter": {
     "outputs_hidden": false
    }
   },
   "outputs": [],
   "source": [
    "# First we need to save a model\n",
    "model.save(\"saved_model.h5\")"
   ]
  },
  {
   "cell_type": "code",
   "execution_count": null,
   "metadata": {
    "_cell_guid": "95f13330-60f6-417e-a846-8ea7f5d523a7",
    "_uuid": "6855d7f5-c7b3-4403-8205-8166ef33f65f",
    "collapsed": false,
    "jupyter": {
     "outputs_hidden": false
    }
   },
   "outputs": [],
   "source": [
    "# Load model\n",
    "new_model = tf.keras.models.load_model(\"./saved_model.h5\")"
   ]
  },
  {
   "cell_type": "code",
   "execution_count": null,
   "metadata": {
    "_cell_guid": "6e65f2a7-6aeb-4a14-84c2-3fdaea5d8f2f",
    "_uuid": "8e7dfa8d-c5ff-45b8-a596-7be3e78d99a1",
    "collapsed": false,
    "jupyter": {
     "outputs_hidden": false
    }
   },
   "outputs": [],
   "source": [
    "new_model.summary()"
   ]
  },
  {
   "cell_type": "code",
   "execution_count": null,
   "metadata": {
    "_cell_guid": "a99806d2-1cdb-4843-b7d3-39cfd86e1da0",
    "_uuid": "92a5bddc-e52b-4341-8b1b-0c6daca0f6ad",
    "collapsed": false,
    "jupyter": {
     "outputs_hidden": false
    }
   },
   "outputs": [],
   "source": [
    "# For data preprocessing and analysis part\n",
    "data2 = pd.read_csv('../input/price-volume-data-for-all-us-stocks-etfs/Stocks/aaoi.us.txt')\n",
    "# Any CSV or TXT file can be added here....\n",
    "data2.dropna(inplace=True)\n",
    "data2.head()\n",
    "\n",
    "data2.reset_index(drop=True, inplace=True)\n",
    "data2.fillna(data.mean(), inplace=True)\n",
    "data2.head()\n",
    "\n",
    "df2 = data2.drop('Date', axis=1)\n",
    "print(df2)\n",
    "\n",
    "X = []\n",
    "Y = []\n",
    "window_size=100\n",
    "for i in range(1 , len(df2) - window_size -1 , 1):\n",
    "    first = df2.iloc[i,3]\n",
    "    temp = []\n",
    "    temp2 = []\n",
    "    for j in range(window_size):\n",
    "        temp.append((df2.iloc[i + j, 3] - first) / first)\n",
    "    # for j in range(week):\n",
    "    temp2.append((df2.iloc[i + window_size, 3] - first) / first)\n",
    "    # X.append(np.array(stock.iloc[i:i+window_size,4]).reshape(50,1))\n",
    "    # Y.append(np.array(stock.iloc[i+window_size,4]).reshape(1,1))\n",
    "    # print(stock2.iloc[i:i+window_size,4])\n",
    "    X.append(np.array(temp).reshape(100, 1))\n",
    "    Y.append(np.array(temp2).reshape(1, 1))\n",
    "\n",
    "x_train, x_test, y_train, y_test = train_test_split(X, Y, test_size=0.2, shuffle=True)\n",
    "\n",
    "train_X = np.array(x_train)\n",
    "test_X = np.array(x_test)\n",
    "train_Y = np.array(y_train)\n",
    "test_Y = np.array(y_test)\n",
    "\n",
    "train_X = train_X.reshape(train_X.shape[0],1,100,1)\n",
    "test_X = test_X.reshape(test_X.shape[0],1,100,1)\n",
    "\n",
    "print(len(train_X))\n",
    "print(len(test_X))"
   ]
  },
  {
   "cell_type": "code",
   "execution_count": null,
   "metadata": {},
   "outputs": [],
   "source": [
    "new_model.fit(train_X, train_Y, validation_data=(test_X,test_Y), epochs=25,batch_size=64, verbose=1, shuffle =True)"
   ]
  },
  {
   "cell_type": "code",
   "execution_count": null,
   "metadata": {},
   "outputs": [],
   "source": []
  }
 ],
 "metadata": {
  "kernelspec": {
   "display_name": "Python 3",
   "language": "python",
   "name": "python3"
  },
  "language_info": {
   "codemirror_mode": {
    "name": "ipython",
    "version": 3
   },
   "file_extension": ".py",
   "mimetype": "text/x-python",
   "name": "python",
   "nbconvert_exporter": "python",
   "pygments_lexer": "ipython3",
   "version": "3.8.8"
  }
 },
 "nbformat": 4,
 "nbformat_minor": 4
}
