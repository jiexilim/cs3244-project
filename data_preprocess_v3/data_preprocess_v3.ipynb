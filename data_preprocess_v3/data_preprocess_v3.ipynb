{
 "cells": [
  {
   "cell_type": "code",
   "execution_count": 1,
   "id": "57ac336d",
   "metadata": {},
   "outputs": [],
   "source": [
    "import pandas as pd\n",
    "import numpy as np"
   ]
  },
  {
   "cell_type": "code",
   "execution_count": 8,
   "id": "8581080b",
   "metadata": {},
   "outputs": [],
   "source": [
    "df_appl = pd.read_csv('aapl.us.csv')\n",
    "df_ggl = pd.read_csv('googl.csv')\n",
    "df_msft = pd.read_csv('msft.csv')"
   ]
  },
  {
   "cell_type": "code",
   "execution_count": 10,
   "id": "c2167367",
   "metadata": {},
   "outputs": [],
   "source": [
    "# weekly data, 5 to 1, close price and volume\n",
    "\n",
    "df_appl_week = df_appl.groupby(np.arange(len(df_appl))//5).mean()\n",
    "df_ggl_week = df_ggl.groupby(np.arange(len(df_ggl))//5).mean()\n",
    "df_msft_week = df_msft.groupby(np.arange(len(df_msft))//5).mean()"
   ]
  },
  {
   "cell_type": "code",
   "execution_count": null,
   "id": "6419827a",
   "metadata": {},
   "outputs": [],
   "source": [
    "def split(filename, n):\n",
    "    df = pd.read_csv(filename)\n",
    "    train_size = round(len(df)*0.7)\n",
    "    y_movement = df['movement']\n",
    "    y_t = df['Close (t)']\n",
    "\n",
    "    if n == 1:\n",
    "        t_n = ['t-1']\n",
    "    else:\n",
    "        t_n = ['Volume (t-5)', 'Volume (t-4)', 'Volume (t-3)', 'Volume (t-2)', 'Volume (t-1)',\\\n",
    "                   'Close (t-5)', 'Close (t-4)', 'Close (t-3)', 'Close (t-2)', 'Close (t-1)']\n",
    "    X = df[t_n]\n",
    "\n",
    "    # for movement\n",
    "    X_train, X_test, y_train_movement, y_test_movement = X[:train_size], X[train_size:], y_movement[:train_size], y_movement[train_size:]\n",
    "\n",
    "    # for t\n",
    "    X_train, X_test, y_train_t, y_test_t = X[:train_size], X[train_size:], y_t[:train_size], y_t[train_size:]\n",
    "    train_df = pd.concat([X_train,y_train_t,y_train_movement],axis = 1)\n",
    "    test_df = pd.concat([X_test,y_test_t, y_test_movement],axis = 1)\n",
    "    return train_df, test_df"
   ]
  },
  {
   "cell_type": "code",
   "execution_count": null,
   "id": "fa64580a",
   "metadata": {},
   "outputs": [],
   "source": [
    "# apple\n",
    "\n",
    "df_apple = pd.DataFrame()\n",
    "\n",
    "# volume\n",
    "df_apple['Volume (t-5)'] = df_appl_week['Volume']\n",
    "df_apple['Volume (t-4)'] = df_appl_week['Volume'].shift(-1)\n",
    "df_apple['Volume (t-3)'] = df_appl_week['Volume'].shift(-2)\n",
    "df_apple['Volume (t-2)'] = df_appl_week['Volume'].shift(-3)\n",
    "df_apple['Volume (t-1)'] = df_appl_week['Volume'].shift(-4)\n",
    "\n",
    "# close price\n",
    "df_apple['Close (t-5)'] = df_appl_week['Close']\n",
    "df_apple['Close (t-4)'] = df_appl_week['Close'].shift(-1)\n",
    "df_apple['Close (t-3)'] = df_appl_week['Close'].shift(-2)\n",
    "df_apple['Close (t-2)'] = df_appl_week['Close'].shift(-3)\n",
    "df_apple['Close (t-1)'] = df_appl_week['Close'].shift(-4)\n",
    "\n",
    "# y-variable (close price)\n",
    "df_apple['Close (t)'] = df_appl_week['Close'].shift(-5)\n",
    "df_apple = df_apple.dropna()\n",
    "\n",
    "# y-variable (movement)\n",
    "df_apple['movement'] = np.where(df_apple[\"Close (t)\"] > df_apple['Close (t-1)'], 1, 0)\n",
    "df_apple.to_csv('df_apple.csv')\n",
    "\n",
    "train, test = split('df_apple.csv', 5)\n",
    "train.to_csv('train_apple.csv', index = False)\n",
    "test.to_csv('test_apple.csv', index = False)"
   ]
  },
  {
   "cell_type": "code",
   "execution_count": null,
   "id": "546a1746",
   "metadata": {},
   "outputs": [],
   "source": [
    "# microsoft\n",
    "\n",
    "df_microsoft = pd.DataFrame()\n",
    "\n",
    "# volume\n",
    "df_microsoft['Volume (t-5)'] = df_msft_week['Volume']\n",
    "df_microsoft['Volume (t-4)'] = df_msft_week['Volume'].shift(-1)\n",
    "df_microsoft['Volume (t-3)'] = df_msft_week['Volume'].shift(-2)\n",
    "df_microsoft['Volume (t-2)'] = df_msft_week['Volume'].shift(-3)\n",
    "df_microsoft['Volume (t-1)'] = df_msft_week['Volume'].shift(-4)\n",
    "\n",
    "# close price\n",
    "df_microsoft['Close (t-5)'] = df_msft_week['Close']\n",
    "df_microsoft['Close (t-4)'] = df_msft_week['Close'].shift(-1)\n",
    "df_microsoft['Close (t-3)'] = df_msft_week['Close'].shift(-2)\n",
    "df_microsoft['Close (t-2)'] = df_msft_week['Close'].shift(-3)\n",
    "df_microsoft['Close (t-1)'] = df_msft_week['Close'].shift(-4)\n",
    "\n",
    "# y-variable (close price)\n",
    "df_microsoft['Close (t)'] = df_msft_week['Close'].shift(-5)\n",
    "df_microsoft = df_microsoft.dropna()\n",
    "\n",
    "# y-variable (movement)\n",
    "df_microsoft['movement'] = np.where(df_microsoft[\"Close (t)\"] > df_microsoft['Close (t-1)'], 1, 0)\n",
    "df_microsoft.to_csv('df_microsoft.csv')\n",
    "\n",
    "train, test = split('df_microsoft.csv', 5)\n",
    "train.to_csv('train_microsoft.csv', index = False)\n",
    "test.to_csv('test_microsoft.csv', index = False)"
   ]
  },
  {
   "cell_type": "code",
   "execution_count": null,
   "id": "c31c1ed4",
   "metadata": {},
   "outputs": [],
   "source": [
    "# google\n",
    "\n",
    "df_google = pd.DataFrame()\n",
    "\n",
    "# volume\n",
    "df_google['Volume (t-5)'] = df_ggl_week['Volume']\n",
    "df_google['Volume (t-4)'] = df_ggl_week['Volume'].shift(-1)\n",
    "df_google['Volume (t-3)'] = df_ggl_week['Volume'].shift(-2)\n",
    "df_google['Volume (t-2)'] = df_ggl_week['Volume'].shift(-3)\n",
    "df_google['Volume (t-1)'] = df_ggl_week['Volume'].shift(-4)\n",
    "\n",
    "# close price\n",
    "df_google['Close (t-5)'] = df_ggl_week['Close']\n",
    "df_google['Close (t-4)'] = df_ggl_week['Close'].shift(-1)\n",
    "df_google['Close (t-3)'] = df_ggl_week['Close'].shift(-2)\n",
    "df_google['Close (t-2)'] = df_ggl_week['Close'].shift(-3)\n",
    "df_google['Close (t-1)'] = df_ggl_week['Close'].shift(-4)\n",
    "\n",
    "# y-variable (close price)\n",
    "df_google['Close (t)'] = df_ggl_week['Close'].shift(-5)\n",
    "df_google = df_google.dropna()\n",
    "\n",
    "# y-variable (movement)\n",
    "df_google['movement'] = np.where(df_google[\"Close (t)\"] > df_google['Close (t-1)'], 1, 0)\n",
    "df_google.to_csv('df_google.csv')\n",
    "\n",
    "train, test = split('df_google.csv', 5)\n",
    "train.to_csv('train_google.csv', index = False)\n",
    "test.to_csv('test_google.csv', index = False)"
   ]
  }
 ],
 "metadata": {
  "kernelspec": {
   "display_name": "Python 3",
   "language": "python",
   "name": "python3"
  },
  "language_info": {
   "codemirror_mode": {
    "name": "ipython",
    "version": 3
   },
   "file_extension": ".py",
   "mimetype": "text/x-python",
   "name": "python",
   "nbconvert_exporter": "python",
   "pygments_lexer": "ipython3",
   "version": "3.8.8"
  }
 },
 "nbformat": 4,
 "nbformat_minor": 5
}
