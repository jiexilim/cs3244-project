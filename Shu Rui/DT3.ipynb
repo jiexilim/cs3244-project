{
 "cells": [
  {
   "cell_type": "code",
   "execution_count": 12,
   "id": "3958567b-4a8d-4bb0-ad17-79d4818704c8",
   "metadata": {},
   "outputs": [],
   "source": [
    "import pandas as pd\n",
    "import numpy as np\n",
    "from sklearn.ensemble import RandomForestClassifier\n",
    "from sklearn.tree import DecisionTreeClassifier\n",
    "from sklearn.metrics import accuracy_score\n",
    "from sklearn.model_selection import cross_validate, train_test_split, GridSearchCV, RandomizedSearchCV\n",
    "from sklearn.pipeline import Pipeline\n",
    "from sklearn.preprocessing import MinMaxScaler\n",
    "from sklearn.metrics import plot_confusion_matrix, classification_report\n",
    "import matplotlib.pyplot as plt\n",
    "from sklearn.feature_selection import RFE\n",
    "from sklearn.metrics import precision_score, recall_score, f1_score,roc_auc_score, roc_curve"
   ]
  },
  {
   "cell_type": "code",
   "execution_count": 13,
   "id": "06633b00-85e3-4754-9bc7-def2b2bed22f",
   "metadata": {},
   "outputs": [],
   "source": [
    "def xgboost(train, label_train, test, label_test, evaluate = 't', search = 'g'):\n",
    "    import xgboost as xgb\n",
    "    xgb_params = {'max_depth': [3,4,5], \n",
    "              'learning_rate': [x/10 for x in list(range(1,6))],\n",
    "              'n_estimators': [30, 35, 50],\n",
    "              'objective': ['binary:logistic']}\n",
    "    xgb_model = xgb.XGBClassifier(gamma=1, random_state=42, reg_lambda=200, use_label_encoder=False, eval_metric = 'logloss')\n",
    "    if search == 'g':\n",
    "        xgb_model = GridSearchCV(xgb_model, xgb_params, scoring='roc_auc')\n",
    "        xgb_model.fit(train, label_train)\n",
    "        print(xgb_model.best_estimator_)\n",
    "    else:\n",
    "        xgb_model = RandomizedSearchCV(xgb_model, xgb_params)\n",
    "        xgb_model.fit(train, label_train)\n",
    "        print(xgb_model.best_params_)\n",
    "        print(xgb_model.best_score_)\n",
    "        \n",
    "    if evaluate == 't':\n",
    "        evaluate_model(xgb_model, train, label_train)\n",
    "    else:\n",
    "        evaluate_model(xgb_model, test, label_test)\n",
    "    "
   ]
  },
  {
   "cell_type": "code",
   "execution_count": 14,
   "id": "bbc0f526-c77c-422a-9303-2068a5852d3c",
   "metadata": {},
   "outputs": [],
   "source": [
    "def randomforest(train, label_train, test, label_test, evaluate = 't', search = 'g'):\n",
    "    rfc_params = {'n_estimators': [100, 150, 200],\n",
    "                'max_features': ['auto', 'sqrt', 'log2'],\n",
    "                'max_depth' : [5,6],\n",
    "                'criterion' :['gini', 'entropy'],\n",
    "                'random_state': [42]}\n",
    "\n",
    "    rfc_model = RandomForestClassifier()\n",
    "\n",
    "    if search == 'g':\n",
    "        rfc_model = GridSearchCV(rfc_model, rfc_params, scoring='roc_auc')\n",
    "        rfc_model = rfc_model.fit(train, label_train)\n",
    "        print(rfc_model.best_estimator_)\n",
    "    else:\n",
    "        rfc_model = RandomizedSearchCV(rfc_model, rfc_params)\n",
    "        rfc_model = rfc_model.fit(train, label_train)\n",
    "        print(rfc_model.best_params_)\n",
    "        print(rfc_model.best_score_)\n",
    "\n",
    "    if evaluate == 't':\n",
    "        evaluate_model(rfc_model, train, label_train)\n",
    "    else:\n",
    "        evaluate_model(rfc_model, test, label_test)"
   ]
  },
  {
   "cell_type": "code",
   "execution_count": 15,
   "id": "806c52c4-5432-4585-8f2c-6b0f7a63327c",
   "metadata": {},
   "outputs": [],
   "source": [
    "def decisiontree (train, label_train, test, label_test, evaluate = 't', search = 'g'):\n",
    "    dt_params = {\"criterion\":['gini','entropy'],\n",
    "                 'max_depth':[3,4,5,6,7,8],\n",
    "                 'random_state': [42]}\n",
    "\n",
    "    dt_model = DecisionTreeClassifier()\n",
    "    if search == 'g':\n",
    "        dt_model = GridSearchCV(dt_model, dt_params, scoring='roc_auc')\n",
    "        dt_model.fit(train, label_train)\n",
    "        print(dt_model.best_estimator_)\n",
    "    else:\n",
    "        dt_model = RandomizedSearchCV(dt_model, dt_params)\n",
    "        dt_model = dt_model.fit(train, label_train)\n",
    "        print(dt_model.best_params_)\n",
    "        print(dt_model.best_score_)\n",
    "    \n",
    "    if evaluate == 't':\n",
    "        evaluate_model(dt_model, train, label_train)\n",
    "    else:\n",
    "        evaluate_model(dt_model, test, label_test)"
   ]
  },
  {
   "cell_type": "code",
   "execution_count": 16,
   "id": "e9e198ed-13ce-4634-9246-87dde94c9b4b",
   "metadata": {},
   "outputs": [],
   "source": [
    "def evaluate_model(model, test, label_test):\n",
    "    predicted = model.predict(test)\n",
    "    print(\"accuracy:\", str(accuracy_score(label_test, predicted)))\n",
    "    \n",
    "    print(\"precision:\", str(precision_score(label_test, predicted, average='weighted')))\n",
    "\n",
    "    print(\"recall:\", str(recall_score(label_test, predicted, average='weighted')))\n",
    "   \n",
    "    print(\"f1\", str(f1_score(label_test, predicted, average='weighted')))\n",
    "    \n",
    "    print(\"metrics.roc_auc_score\", str(roc_auc_score(label_test, predicted, average='weighted')))\n",
    "\n",
    "    plot_confusion_matrix(model, test, label_test,\n",
    "                      display_labels=list(set(label_test)),\n",
    "                      cmap=plt.cm.Blues)\n",
    "    \n",
    "    classification = classification_report(label_test, predicted)\n",
    "    print(classification)"
   ]
  },
  {
   "cell_type": "code",
   "execution_count": 17,
   "id": "59caf435-a191-428d-829a-deddaa8e8025",
   "metadata": {},
   "outputs": [],
   "source": [
    "train_data = pd.read_csv('10_weekly_train.csv')\n",
    "test_data = pd.read_csv('10_weekly_test.csv')"
   ]
  },
  {
   "cell_type": "code",
   "execution_count": 18,
   "id": "53fbc42b-0f82-4eda-b348-a0c233d2037b",
   "metadata": {},
   "outputs": [],
   "source": [
    "scaler = MinMaxScaler(feature_range=(0, 1))\n",
    "train_mov = train_data[\"movement\"]\n",
    "test_mov = test_data[\"movement\"]\n",
    "col_name = train_data.drop([\"movement\"],1).columns\n",
    "train_data[col_name] = scaler.fit_transform(train_data.drop([\"movement\"],1))\n",
    "test_data[col_name] = scaler.fit_transform(test_data.drop([\"movement\"],1))\n",
    "train_data[\"movement\"] = train_mov\n",
    "test_data[\"movement\"] = test_mov"
   ]
  },
  {
   "cell_type": "code",
   "execution_count": 19,
   "id": "3d32ae7f-08e2-48b2-8e0c-0320b5c33422",
   "metadata": {},
   "outputs": [],
   "source": [
    "label_train = train_data[\"movement\"].astype(int)\n",
    "train = train_data.drop([\"Close (t)\",\"movement\"],1)\n",
    "label_test = test_data[\"movement\"].astype(int)\n",
    "test = test_data.drop([\"Close (t)\",\"movement\"],1)"
   ]
  },
  {
   "cell_type": "code",
   "execution_count": 20,
   "id": "2e7cc9fc-62d3-4809-8898-1e4942c81a3c",
   "metadata": {},
   "outputs": [
    {
     "name": "stdout",
     "output_type": "stream",
     "text": [
      "{'objective': 'binary:logistic', 'n_estimators': 30, 'max_depth': 3, 'learning_rate': 0.2}\n",
      "0.5135091425657463\n",
      "accuracy: 0.5611601513240857\n",
      "precision: 0.5320080174685381\n",
      "recall: 0.5611601513240857\n",
      "f1 0.5381131895743443\n",
      "metrics.roc_auc_score 0.5038324240587324\n",
      "              precision    recall  f1-score   support\n",
      "\n",
      "           0       0.39      0.26      0.31       303\n",
      "           1       0.62      0.75      0.68       490\n",
      "\n",
      "    accuracy                           0.56       793\n",
      "   macro avg       0.50      0.50      0.50       793\n",
      "weighted avg       0.53      0.56      0.54       793\n",
      "\n"
     ]
    },
    {
     "data": {
      "image/png": "[encoded data removed]",
      "text/plain": [
       "<Figure size 432x288 with 2 Axes>"
      ]
     },
     "metadata": {
      "needs_background": "light"
     },
     "output_type": "display_data"
    }
   ],
   "source": [
    "#xgb_g_train = xgboost(train, label_train, test, label_test)\n",
    "#xgb_g_test = xgboost(train, label_train, test, label_test,  evaluate = 's')\n",
    "#xgb_r_train = xgboost(train, label_train, test, label_test, search = 'r')\n",
    "xgb_r_test = xgboost(train, label_train, test, label_test, evaluate = 's', search = 'r')"
   ]
  },
  {
   "cell_type": "code",
   "execution_count": 21,
   "id": "bc144131-a2e0-4ff2-b8b0-8a2bcaab4386",
   "metadata": {},
   "outputs": [],
   "source": [
    "#rfc_g_train = randomforest(train, label_train, test, label_test, )\n",
    "#rfc_g_test = randomforest(train, label_train, test, label_test,  evaluate = 's')\n",
    "#rfc_r_train = randomforest(train, label_train, test, label_test,  search = 'r')\n",
    "#rfc_r_test = randomforest(train, label_train, test, label_test,  evaluate = 's', search = 'r')"
   ]
  },
  {
   "cell_type": "code",
   "execution_count": 22,
   "id": "69c963ee-010d-47d9-9bfb-219567e6dad8",
   "metadata": {},
   "outputs": [
    {
     "name": "stdout",
     "output_type": "stream",
     "text": [
      "{'random_state': 42, 'max_depth': 3, 'criterion': 'entropy'}\n",
      "0.5372870984191739\n",
      "accuracy: 0.501891551071879\n",
      "precision: 0.5166219254334009\n",
      "recall: 0.501891551071879\n",
      "f1 0.507414971397478\n",
      "metrics.roc_auc_score 0.48799083990031655\n",
      "              precision    recall  f1-score   support\n",
      "\n",
      "           0       0.37      0.43      0.40       303\n",
      "           1       0.61      0.55      0.58       490\n",
      "\n",
      "    accuracy                           0.50       793\n",
      "   macro avg       0.49      0.49      0.49       793\n",
      "weighted avg       0.52      0.50      0.51       793\n",
      "\n"
     ]
    },
    {
     "data": {
      "image/png": "[encoded data removed]",
      "text/plain": [
       "<Figure size 432x288 with 2 Axes>"
      ]
     },
     "metadata": {
      "needs_background": "light"
     },
     "output_type": "display_data"
    }
   ],
   "source": [
    "#dt_g_train = decisiontree(train, label_train, test, label_test)\n",
    "#dt_g_test = decisiontree(train, label_train, test, label_test, evaluate = 's')\n",
    "#dt_r_train = decisiontree(train, label_train, test, label_test, search = 'r')\n",
    "dt_r_test = decisiontree(train, label_train, test, label_test, evaluate = 's', search = 'r')"
   ]
  }
 ],
 "metadata": {
  "kernelspec": {
   "display_name": "Python 3",
   "language": "python",
   "name": "python3"
  },
  "language_info": {
   "codemirror_mode": {
    "name": "ipython",
    "version": 3
   },
   "file_extension": ".py",
   "mimetype": "text/x-python",
   "name": "python",
   "nbconvert_exporter": "python",
   "pygments_lexer": "ipython3",
   "version": "3.8.8"
  }
 },
 "nbformat": 4,
 "nbformat_minor": 5
}
